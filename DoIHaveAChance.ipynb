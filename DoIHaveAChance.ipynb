{
 "cells": [
  {
   "cell_type": "code",
   "execution_count": 43,
   "metadata": {},
   "outputs": [],
   "source": [
    "# base imports\n",
    "import pandas as pd\n",
    "import numpy as np"
   ]
  },
  {
   "cell_type": "code",
   "execution_count": 16,
   "metadata": {},
   "outputs": [],
   "source": [
    "# Column met_o had values 1/2. It needs to be changed to 0/1.\n",
    "df = pd.read_csv('./data_for_matrix.csv')\n",
    "df['met_o'] = df['met_o'].apply(lambda x: x - 1)\n",
    "df.to_csv('data_for_matrix.csv', index=False)"
   ]
  },
  {
   "cell_type": "markdown",
   "metadata": {},
   "source": [
    "### Below you can see code that prepares data for the basic matrix factorization.\n",
    "Here in the base matrix we only have information about match. So we need a set of vectors, where each vector describes each date (holds both ids and information about match).\n",
    "\n",
    "Task will requite two base matrices.\n",
    "1. Matrix where men are \"users\" and women are \"products\". It will then be used to recommend women to men because matrix will say what's the predicted rating of a woman in eyes of man. Basically it will answer the question: **\"How likely is that a man will like a woman?\"**. Let's call this matrix/data frame **\"men_like_women\"**.\n",
    "1. Matrix where women are \"users\" and men are \"products\". It will then be used to recommend men to women because matrix will say what's the predicted rating of a man in eyes of woman. Basically it will answer the question: **\"How likely is that a woman will like a man?\"**. Let's call this matrix/data frame **\"women_like_men\"**.\n",
    "\n",
    "Why such analogies? It may help to understand how do this human relations task translates into recommender systems world.\n",
    "\n",
    "These matrices will be used to train models (with matrix factorization) which will then be saved into csv files."
   ]
  },
  {
   "cell_type": "code",
   "execution_count": 54,
   "metadata": {},
   "outputs": [
    {
     "name": "stdout",
     "output_type": "stream",
     "text": [
      "       id  pid  match\n",
      "0      11    1      0\n",
      "1      11    2      0\n",
      "2      11    3      0\n",
      "3      11    4      0\n",
      "4      11    5      0\n",
      "...   ...  ...    ...\n",
      "4179  552  526      0\n",
      "4180  552  527      0\n",
      "4181  552  528      0\n",
      "4182  552  529      0\n",
      "4183  552  530      0\n",
      "\n",
      "[4184 rows x 3 columns]\n",
      "       id  pid  match\n",
      "0       1   11      0\n",
      "1       1   12      0\n",
      "2       1   13      1\n",
      "3       1   14      1\n",
      "4       1   15      1\n",
      "...   ...  ...    ...\n",
      "4179  530  548      0\n",
      "4180  530  549      0\n",
      "4181  530  550      0\n",
      "4182  530  551      0\n",
      "4183  530  552      0\n",
      "\n",
      "[4184 rows x 3 columns]\n"
     ]
    }
   ],
   "source": [
    "# Split into vectors, let's have two matrices as describes above.\n",
    "base_df = pd.read_csv('./data_for_matrix.csv')\n",
    "men_like_women_data = []\n",
    "women_like_men_data = []\n",
    "\n",
    "for _, row in base_df.iterrows():\n",
    "    vector = {\n",
    "        'id': int(row['iid']),\n",
    "        'pid': int(row['pid']),\n",
    "        'match': int(row['match'])\n",
    "    }\n",
    "    if row['gender'] == 0:\n",
    "        women_like_men_data.append(vector)\n",
    "    else:\n",
    "        men_like_women_data.append(vector)\n",
    "\n",
    "men_like_women_df = pd.DataFrame(men_like_women_data)\n",
    "women_like_men_df = pd.DataFrame(women_like_men_data)\n",
    "\n",
    "print(men_like_women_df)\n",
    "print(women_like_men_df)"
   ]
  },
  {
   "cell_type": "code",
   "execution_count": null,
   "metadata": {},
   "outputs": [],
   "source": []
  }
 ],
 "metadata": {
  "kernelspec": {
   "display_name": "Python 3",
   "language": "python",
   "name": "python3"
  },
  "language_info": {
   "codemirror_mode": {
    "name": "ipython",
    "version": 3
   },
   "file_extension": ".py",
   "mimetype": "text/x-python",
   "name": "python",
   "nbconvert_exporter": "python",
   "pygments_lexer": "ipython3",
   "version": "3.8.5"
  }
 },
 "nbformat": 4,
 "nbformat_minor": 4
}
