{
 "cells": [
  {
   "cell_type": "code",
   "execution_count": 15,
   "metadata": {},
   "outputs": [],
   "source": [
    "# base imports\n",
    "import pandas as pd\n",
    "import numpy as np"
   ]
  },
  {
   "cell_type": "code",
   "execution_count": 13,
   "metadata": {},
   "outputs": [],
   "source": [
    "# Data preparation: \n",
    "# Some data is missing (but we know what it should be) or some data should be changed.\n",
    "df = pd.read_csv('./speed_dating_data.csv', encoding = 'ISO-8859-1')\n",
    "\n",
    "def fooCareer(col):\n",
    "    selected_df = df[col]\n",
    "    career_c = {\n",
    "        'lawyer': 1.,\n",
    "        'law': 1.,\n",
    "        'Economics': 7.,\n",
    "        'tech professional': 5.\n",
    "    }\n",
    "    \n",
    "    for x, row in selected_df.iterrows():\n",
    "            career = df.at[x, col[0]]\n",
    "            if career in career_c:\n",
    "                df.at[x, col[1]] = career_c[career]\n",
    "                \n",
    "\n",
    "def fooGoal(col):\n",
    "    selected_df = df[col]\n",
    "    goal_c = {\n",
    "        1: 1,\n",
    "        2: 1,\n",
    "        3: 1,\n",
    "        4: 0,\n",
    "        5: 1,\n",
    "        6: 1,\n",
    "    }\n",
    "    \n",
    "    for x, row in selected_df.iteritems():\n",
    "        goal = df.at[x, col]\n",
    "        if goal in goal_c:\n",
    "            df.at[x, col] = goal_c[goal]\n",
    "\n",
    "fooCareer(['career','career_c'])\n",
    "fooGoal('goal')\n",
    "df.to_csv('base_dating_data.csv', index=False)"
   ]
  },
  {
   "cell_type": "code",
   "execution_count": 14,
   "metadata": {},
   "outputs": [
    {
     "name": "stderr",
     "output_type": "stream",
     "text": [
      "<ipython-input-14-023d9bb5a582>:9: RuntimeWarning: divide by zero encountered in double_scalars\n",
      "  multiplier = 100/row.sum()\n",
      "<ipython-input-14-023d9bb5a582>:11: RuntimeWarning: invalid value encountered in double_scalars\n",
      "  df.at[x, col] *= multiplier\n"
     ]
    }
   ],
   "source": [
    "# data is inconsistent:\n",
    "# Some values (it’s based on waves) are 1-10 and others are 1-100 so\n",
    "# they should be normalized so that all are 1-100.\n",
    "df = pd.read_csv('base_dating_data.csv')\n",
    "\n",
    "def func(lista):\n",
    "    selected_df = df[lista]\n",
    "    for x, row in selected_df.iterrows():\n",
    "        multiplier = 100/row.sum()\n",
    "        for col in lista:\n",
    "            df.at[x, col] *= multiplier\n",
    "\n",
    "lista = ['attr1_1', 'sinc1_1', 'intel1_1', 'fun1_1', 'amb1_1', 'shar1_1']\n",
    "lista1 = ['attr_o', 'sinc_o', 'intel_o', 'fun_o', 'amb_o', 'shar_o']\n",
    "lista3 = ['attr2_1', 'sinc2_1', 'intel2_1', 'fun2_1', 'amb2_1', 'shar2_1']\n",
    "lista4 = ['attr1_2', 'sinc1_2', 'intel1_2', 'fun1_2', 'amb1_2', 'shar1_2']\n",
    "\n",
    "func(lista)\n",
    "func(lista1)\n",
    "func(lista3)\n",
    "func(lista4)\n",
    "\n",
    "df.to_csv('base_dating_data.csv', index=False)"
   ]
  },
  {
   "cell_type": "code",
   "execution_count": 15,
   "metadata": {},
   "outputs": [],
   "source": [
    "# Column met_o had values 1/2. It needs to be changed to 0/1.\n",
    "df = pd.read_csv('./base_dating_data.csv')\n",
    "df['met_o'] = df['met_o'].apply(lambda x: x - 1)\n",
    "df.to_csv('base_dating_data.csv', index=False)"
   ]
  },
  {
   "cell_type": "markdown",
   "metadata": {},
   "source": [
    "We removed some rows (by hand) because they didn't have `pid`."
   ]
  },
  {
   "cell_type": "markdown",
   "metadata": {},
   "source": [
    "### Below you can see code that prepares data for the basic matrix factorization.\n",
    "Here in the base matrix we only have information about match. So we need a set of vectors, where each vector describes each date (holds both ids and information about match).\n",
    "\n",
    "Task will requite two base matrices.\n",
    "1. Matrix where men are \"users\" and women are \"products\". It will then be used to recommend women to men because matrix will say what's the predicted rating of a woman in eyes of man. Basically it will answer the question: **\"How likely is that a man will like a woman?\"**. Let's call this matrix/data frame **\"men_like_women\"**.\n",
    "1. Matrix where women are \"users\" and men are \"products\". It will then be used to recommend men to women because matrix will say what's the predicted rating of a man in eyes of woman. Basically it will answer the question: **\"How likely is that a woman will like a man?\"**. Let's call this matrix/data frame **\"women_like_men\"**.\n",
    "\n",
    "Why such analogies? It may help to understand how do this human relations task translates into recommender systems world.\n",
    "\n",
    "These matrices will be used to train models (with matrix factorization) which will then be saved into csv files."
   ]
  },
  {
   "cell_type": "code",
   "execution_count": 36,
   "metadata": {},
   "outputs": [
    {
     "name": "stdout",
     "output_type": "stream",
     "text": [
      "\n",
      "\n",
      "men_like_women_df:\n",
      "         id    pid  decision\n",
      "0      11.0    1.0       0.0\n",
      "1      11.0    2.0       0.0\n",
      "2      11.0    3.0       0.0\n",
      "3      11.0    4.0       0.0\n",
      "4      11.0    5.0       0.0\n",
      "...     ...    ...       ...\n",
      "4179  552.0  526.0       0.0\n",
      "4180  552.0  527.0       0.0\n",
      "4181  552.0  528.0       0.0\n",
      "4182  552.0  529.0       0.0\n",
      "4183  552.0  530.0       0.0\n",
      "\n",
      "[4184 rows x 3 columns]\n",
      "\n",
      "women_like_men_df:\n",
      "         id    pid  decision\n",
      "0       1.0   11.0       1.0\n",
      "1       1.0   12.0       1.0\n",
      "2       1.0   13.0       1.0\n",
      "3       1.0   14.0       1.0\n",
      "4       1.0   15.0       1.0\n",
      "...     ...    ...       ...\n",
      "4179  530.0  548.0       0.0\n",
      "4180  530.0  549.0       1.0\n",
      "4181  530.0  550.0       0.0\n",
      "4182  530.0  551.0       0.0\n",
      "4183  530.0  552.0       1.0\n",
      "\n",
      "[4184 rows x 3 columns]\n"
     ]
    }
   ],
   "source": [
    "# Split into vectors, let's have two matrices as describes above.\n",
    "base_df = pd.read_csv('./data_for_matrix.csv')\n",
    "men_like_women_data = []\n",
    "women_like_men_data = []\n",
    "\n",
    "for _, row in base_df.iterrows():\n",
    "    vector = {\n",
    "        'id': row['iid'],\n",
    "        'pid': row['pid'],\n",
    "        'decision': row['dec'],\n",
    "    }\n",
    "    if row['gender'] == 0:\n",
    "        # it's a woman\n",
    "        women_like_men_data.append(vector)\n",
    "    else:\n",
    "        men_like_women_data.append(vector)\n",
    "\n",
    "men_like_women_df = pd.DataFrame(men_like_women_data)\n",
    "women_like_men_df = pd.DataFrame(women_like_men_data)\n",
    "\n",
    "print('\\n\\nmen_like_women_df:')\n",
    "print(men_like_women_df)\n",
    "print('\\nwomen_like_men_df:')\n",
    "print(women_like_men_df)"
   ]
  },
  {
   "cell_type": "markdown",
   "metadata": {},
   "source": [
    "## Let's prepare train and test data sets\n",
    "\n",
    "### Make ids contiguous\n",
    "We need to change the data. As you can see ids are not contiguous and they must be. So let's change that."
   ]
  },
  {
   "cell_type": "code",
   "execution_count": 17,
   "metadata": {},
   "outputs": [],
   "source": [
    "def proc_col(column):\n",
    "    \"\"\"Encodes a pandas column with continous ids.\"\"\"\n",
    "    unique = column.unique()\n",
    "    old_to_new = {o: i for i, o in enumerate(unique)}\n",
    "    return np.array([old_to_new.get(x, -1) for x in column])\n",
    "\n",
    "\n",
    "def encode_data(df):\n",
    "    \"\"\"Encodes data with continous person and partner ids.\"\"\"\n",
    "    df = df.copy()\n",
    "    for col_name in [\"id\", \"pid\"]:\n",
    "        col = proc_col(df[col_name])\n",
    "        df[col_name] = col\n",
    "        df = df[df[col_name] >= 0]\n",
    "    return df"
   ]
  },
  {
   "cell_type": "markdown",
   "metadata": {},
   "source": [
    "And now use these functions to make ids contiguous."
   ]
  },
  {
   "cell_type": "code",
   "execution_count": 18,
   "metadata": {},
   "outputs": [
    {
     "name": "stdout",
     "output_type": "stream",
     "text": [
      "Before:\n",
      "         id    pid  decision\n",
      "0      11.0    1.0       0.0\n",
      "1      11.0    2.0       0.0\n",
      "2      11.0    3.0       0.0\n",
      "3      11.0    4.0       0.0\n",
      "4      11.0    5.0       0.0\n",
      "...     ...    ...       ...\n",
      "4179  552.0  526.0       0.0\n",
      "4180  552.0  527.0       0.0\n",
      "4181  552.0  528.0       0.0\n",
      "4182  552.0  529.0       0.0\n",
      "4183  552.0  530.0       0.0\n",
      "\n",
      "[4184 rows x 3 columns]\n",
      "\n",
      "After:\n",
      "       id  pid  decision\n",
      "0       0    0       0.0\n",
      "1       0    1       0.0\n",
      "2       0    2       0.0\n",
      "3       0    3       0.0\n",
      "4       0    4       0.0\n",
      "...   ...  ...       ...\n",
      "4179  276  269       0.0\n",
      "4180  276  270       0.0\n",
      "4181  276  271       0.0\n",
      "4182  276  272       0.0\n",
      "4183  276  273       0.0\n",
      "\n",
      "[4184 rows x 3 columns]\n"
     ]
    }
   ],
   "source": [
    "print('Before:')\n",
    "print(men_like_women_df)\n",
    "men_like_women_df = encode_data(men_like_women_df)\n",
    "print('\\nAfter:')\n",
    "print(men_like_women_df)\n",
    "\n",
    "women_like_men_df = encode_data(women_like_men_df)"
   ]
  },
  {
   "cell_type": "markdown",
   "metadata": {},
   "source": [
    "### Let's split into train and test data sets\n",
    "Standard sklearn function `train_test_split` doesn't do a job here because both test and train data sets should include all people. So after using `train_test_split` we need to transition some people between sets to ensure that both sets are correct. The same goes for partners."
   ]
  },
  {
   "cell_type": "code",
   "execution_count": 19,
   "metadata": {},
   "outputs": [],
   "source": [
    "from sklearn.model_selection import train_test_split as tts\n",
    "\n",
    "def train_test_split(df, test_size=0.2):\n",
    "    # Use standard train_test_split.\n",
    "    df_train, df_test = tts(df, test_size=test_size)\n",
    "    no_train_unique = len(df_train.id.unique())\n",
    "    no_test_unique = len(df_test.id.unique())\n",
    "    \n",
    "    # See what people are missing in the test set.\n",
    "    diff = np.setdiff1d(df_train.id.unique(), df_test.id.unique())\n",
    "    for id in diff:\n",
    "        # For every missing person we need to exchange them for a\n",
    "        # different one so that sets still have the same number of elements.\n",
    "        person_to_send_to_test = df_train.loc[df_train.id == id].iloc[0]\n",
    "        person_to_send_to_train = None\n",
    "        # Choose some person from the test set to send to the train set.\n",
    "        ids = df_test.id.unique()\n",
    "        np.random.shuffle(ids)\n",
    "        for test_id in ids:\n",
    "            person = df_test.loc[df_test.id == test_id]\n",
    "            if len(person.index) > 1:\n",
    "                person_to_send_to_train = person.iloc[0]\n",
    "                break\n",
    "        if person_to_send_to_train is not None:\n",
    "            # Remove people that transit from old sets.\n",
    "            # .name holds the id of that row in the oryginal df.\n",
    "            df_train = df_train.drop(person_to_send_to_test.name)\n",
    "            df_test = df_test.drop(person_to_send_to_train.name)\n",
    "            # Add new people to sets.\n",
    "            df_train = pd.concat([df_train, person_to_send_to_train.to_frame().T], ignore_index=True)\n",
    "            df_test = pd.concat([df_test, person_to_send_to_test.to_frame().T], ignore_index=True)\n",
    "        else:\n",
    "            raise Exception(\"Couldn't find any person from people to send from the test to the train.\")\n",
    "        \n",
    "    # See what partners are missing in the test set.\n",
    "    diff = np.setdiff1d(df_train.pid.unique(), df_test.pid.unique())\n",
    "    for pid in diff:\n",
    "        # For every missing partner we need to exchange them for a\n",
    "        # different one so that sets still have the same number of elements.\n",
    "        partner_to_send_to_test = df_train.loc[df_train.pid == pid].iloc[0]\n",
    "        partner_to_send_to_train = None\n",
    "        \n",
    "        # Choose some partner from the test set to send to the train set.\n",
    "        # Need to make sure that both sets will still have all the people.\n",
    "        pids = df_test.pid.unique()\n",
    "        np.random.shuffle(pids)\n",
    "        for test_pid in pids:\n",
    "            partner = df_test.loc[df_test.pid == test_pid]\n",
    "            if len(partner.index) > 1:\n",
    "                # Make sure we don't remove a person completely.\n",
    "                id = partner.iloc[0].id\n",
    "                person_qty = len(df_test.loc[df_test.id == id].index)\n",
    "                if person_qty > 1:\n",
    "                    partner_to_send_to_train = partner.iloc[0]\n",
    "                    break\n",
    "        if partner_to_send_to_train is not None:\n",
    "            # Remove partners that transit from old sets.\n",
    "            df_train = df_train.drop(partner_to_send_to_test.name)\n",
    "            df_test = df_test.drop(partner_to_send_to_train.name)\n",
    "            # Add new people to sets.\n",
    "            df_train = pd.concat([df_train, partner_to_send_to_train.to_frame().T], ignore_index=True)\n",
    "            df_test = pd.concat([df_test, partner_to_send_to_test.to_frame().T], ignore_index=True)\n",
    "        else:\n",
    "            raise Exception(\"Couldn't find any partner from partners to send from the test to the train.\")\n",
    "                    \n",
    "    df_train = df_train.sort_values(by='id')\n",
    "    df_test = df_test.sort_values(by='id')\n",
    "    return df_train.reset_index(drop=True), df_test.sort_values(by='id').reset_index(drop=True)"
   ]
  },
  {
   "cell_type": "markdown",
   "metadata": {},
   "source": [
    "### And now just get correct data"
   ]
  },
  {
   "cell_type": "code",
   "execution_count": 20,
   "metadata": {},
   "outputs": [],
   "source": [
    "men_like_women_train_df, men_like_women_test_df = train_test_split(men_like_women_df, test_size=0.2)\n",
    "men_like_women_no_men = len(men_like_women_train_df.id.unique())\n",
    "men_like_women_no_women = len(men_like_women_train_df.pid.unique())\n",
    "\n",
    "women_like_men_train_df, women_like_men_test_df = train_test_split(women_like_men_df, test_size=0.2)\n",
    "women_like_men_no_women = len(women_like_men_train_df.id.unique())\n",
    "women_like_men_no_men = len(women_like_men_train_df.pid.unique())"
   ]
  },
  {
   "cell_type": "markdown",
   "metadata": {},
   "source": [
    "## Let's create matrix factorization models\n",
    "\n",
    "We will create and train several base MF (matrix factorization) models and for each of them let's do a cross validation to learn the best hyperparameters and parameters. Then we will compare the results and choose the best model.\n",
    "\n",
    "Some general explanations for models:\n",
    "* Models are train on only one batch because our data set is rather small.\n",
    "\n",
    "Good reading resource: https://towardsdatascience.com/weight-initialization-techniques-in-neural-networks-26c649eb3b78"
   ]
  },
  {
   "cell_type": "code",
   "execution_count": 57,
   "metadata": {},
   "outputs": [
    {
     "data": {
      "text/plain": [
       "device(type='cuda')"
      ]
     },
     "execution_count": 57,
     "metadata": {},
     "output_type": "execute_result"
    }
   ],
   "source": [
    "import torch\n",
    "import torch.nn as nn\n",
    "import torch.nn.functional as F\n",
    "\n",
    "dev = torch.device('cuda') if torch.cuda.is_available() else torch.device('cpu')\n",
    "dev"
   ]
  },
  {
   "cell_type": "markdown",
   "metadata": {},
   "source": [
    "### Matrix factorization without bias"
   ]
  },
  {
   "cell_type": "code",
   "execution_count": 23,
   "metadata": {},
   "outputs": [
    {
     "name": "stdout",
     "output_type": "stream",
     "text": [
      "Model with without xavier weights are:\n",
      "\n",
      "Parameter containing:\n",
      "tensor([[0.3700, 0.8147, 0.6942],\n",
      "        [0.4345, 0.9451, 0.3516],\n",
      "        [0.4315, 0.5043, 0.0377],\n",
      "        [0.6993, 0.3729, 0.7910],\n",
      "        [0.8972, 0.2427, 0.0302],\n",
      "        [0.6702, 0.7356, 0.8349],\n",
      "        [0.2435, 0.4643, 0.5067],\n",
      "        [0.1282, 0.6709, 0.2991],\n",
      "        [0.6151, 0.3680, 0.8885],\n",
      "        [0.8471, 0.4060, 0.0641]], requires_grad=True)\n",
      "Parameter containing:\n",
      "tensor([[0.7631, 0.3219, 0.9104],\n",
      "        [0.0420, 0.2159, 0.0141],\n",
      "        [0.3137, 0.2701, 0.6957],\n",
      "        [0.6800, 0.5540, 0.7888],\n",
      "        [0.5571, 0.8403, 0.2847],\n",
      "        [0.1999, 0.0745, 0.2023],\n",
      "        [0.2049, 0.6360, 0.7852],\n",
      "        [0.4650, 0.5033, 0.7797],\n",
      "        [0.9088, 0.3568, 0.5298],\n",
      "        [0.1006, 0.8272, 0.9608]], requires_grad=True)\n",
      "\n",
      "\n",
      " ====================\n",
      "\n",
      "\n",
      "Model with with xavier weights are:\n",
      "\n",
      "Parameter containing:\n",
      "tensor([[ 0.0845,  0.6714,  0.4950],\n",
      "        [ 0.5474, -0.2960,  0.6549],\n",
      "        [-0.1311, -0.6178,  0.1545],\n",
      "        [-0.5823,  0.4413,  0.4912],\n",
      "        [ 0.5819,  0.3101, -0.5906],\n",
      "        [ 0.5700, -0.1414, -0.2988],\n",
      "        [-0.6425,  0.2665,  0.0245],\n",
      "        [ 0.5243, -0.1155,  0.4238],\n",
      "        [-0.5431,  0.3929,  0.2963],\n",
      "        [-0.5504, -0.1524, -0.3036]], requires_grad=True)\n",
      "Parameter containing:\n",
      "tensor([[-0.4017,  0.0569,  0.3262],\n",
      "        [ 0.2011, -0.1391,  0.4820],\n",
      "        [-0.6340, -0.0493, -0.4618],\n",
      "        [-0.4782,  0.4734,  0.4720],\n",
      "        [-0.0476,  0.1329, -0.4395],\n",
      "        [ 0.1687,  0.6496, -0.3597],\n",
      "        [-0.0754,  0.3310,  0.3190],\n",
      "        [-0.2946, -0.1895, -0.5247],\n",
      "        [-0.1964,  0.1996, -0.4558],\n",
      "        [ 0.1754, -0.1441, -0.5763]], requires_grad=True)\n"
     ]
    }
   ],
   "source": [
    "class MatrixFactorizationWithoutBiasNoXavier(nn.Module):\n",
    "    def __init__(self, num_people, num_partners, weights=(0, 1), emb_size=100):\n",
    "        super(MatrixFactorizationWithoutBiasNoXavier, self).__init__()\n",
    "        self.person_emb = nn.Embedding(num_people, emb_size)\n",
    "        self.partner_emb = nn.Embedding(num_partners, emb_size)\n",
    "        self.person_emb.weight.data.uniform_(weights[0], weights[1])\n",
    "        self.partner_emb.weight.data.uniform_(weights[0], weights[1])\n",
    "        \n",
    "    def forward(self, u, v):\n",
    "        u = self.person_emb(u)\n",
    "        v = self.partner_emb(v)\n",
    "        # calculate dot product\n",
    "        # u*v is a element wise vector multiplication\n",
    "        return torch.sigmoid((u*v).sum(1))\n",
    "\n",
    "    \n",
    "class MatrixFactorizationWithoutBiasXavier(nn.Module):\n",
    "    def __init__(self, num_people, num_partners, emb_size=100):\n",
    "        super(MatrixFactorizationWithoutBiasXavier, self).__init__()\n",
    "        self.person_emb = nn.Embedding(num_people, emb_size)\n",
    "        self.partner_emb = nn.Embedding(num_partners, emb_size)\n",
    "        torch.nn.init.xavier_uniform_(self.person_emb.weight)\n",
    "        torch.nn.init.xavier_uniform_(self.partner_emb.weight)\n",
    "        \n",
    "    def forward(self, u, v):\n",
    "        u = self.person_emb(u)\n",
    "        v = self.partner_emb(v)\n",
    "        # calculate dot product\n",
    "        # u*v is a element wise vector multiplication\n",
    "        return torch.sigmoid((u*v).sum(1))\n",
    "\n",
    "    \n",
    "# Example small models demonstrating weights\n",
    "example_model_no_xavier = MatrixFactorizationWithoutBiasNoXavier(10, 10, emb_size=3)\n",
    "example_model_xavier = MatrixFactorizationWithoutBiasXavier(10, 10, emb_size=3)\n",
    "print(\"Model with without xavier weights are:\\n\")\n",
    "for p in example_model_no_xavier.parameters():\n",
    "    print(p)\n",
    "print('\\n\\n', '='*20)\n",
    "print(\"\\n\\nModel with with xavier weights are:\\n\")\n",
    "for p in example_model_xavier.parameters():\n",
    "    print(p)"
   ]
  },
  {
   "cell_type": "markdown",
   "metadata": {},
   "source": [
    "### Matrix factorization without bias"
   ]
  },
  {
   "cell_type": "code",
   "execution_count": 24,
   "metadata": {},
   "outputs": [
    {
     "name": "stdout",
     "output_type": "stream",
     "text": [
      "Model with without xavier weights are:\n",
      "\n",
      "Parameter containing:\n",
      "tensor([[0.1651, 0.4107, 0.0871],\n",
      "        [0.7786, 0.4247, 0.9501],\n",
      "        [0.2980, 0.6316, 0.2485],\n",
      "        [0.6069, 0.5254, 0.4709],\n",
      "        [0.1753, 0.3867, 0.8339],\n",
      "        [0.1898, 0.3888, 0.1838],\n",
      "        [0.6948, 0.1621, 0.9343],\n",
      "        [0.8162, 0.6374, 0.6728],\n",
      "        [0.0446, 0.9903, 0.7182],\n",
      "        [0.2795, 0.9269, 0.5219]], requires_grad=True)\n",
      "Parameter containing:\n",
      "tensor([[0.],\n",
      "        [0.],\n",
      "        [0.],\n",
      "        [0.],\n",
      "        [0.],\n",
      "        [0.],\n",
      "        [0.],\n",
      "        [0.],\n",
      "        [0.],\n",
      "        [0.]], requires_grad=True)\n",
      "Parameter containing:\n",
      "tensor([[0.7834, 0.9069, 0.2197],\n",
      "        [0.8485, 0.8024, 0.9884],\n",
      "        [0.7580, 0.3263, 0.9994],\n",
      "        [0.9079, 0.6887, 0.5685],\n",
      "        [0.8370, 0.6756, 0.5371],\n",
      "        [0.9635, 0.7022, 0.2793],\n",
      "        [0.8146, 0.7838, 0.2698],\n",
      "        [0.1926, 0.1521, 0.1713],\n",
      "        [0.0978, 0.8465, 0.2637],\n",
      "        [0.7142, 0.5146, 0.4498]], requires_grad=True)\n",
      "Parameter containing:\n",
      "tensor([[0.],\n",
      "        [0.],\n",
      "        [0.],\n",
      "        [0.],\n",
      "        [0.],\n",
      "        [0.],\n",
      "        [0.],\n",
      "        [0.],\n",
      "        [0.],\n",
      "        [0.]], requires_grad=True)\n",
      "\n",
      "\n",
      " ====================\n",
      "\n",
      "\n",
      "Model with with xavier weights are:\n",
      "\n",
      "Parameter containing:\n",
      "tensor([[-0.0037, -0.3060,  0.0425],\n",
      "        [ 0.3959, -0.5902,  0.4582],\n",
      "        [-0.5276,  0.5205, -0.6026],\n",
      "        [-0.1003, -0.2547, -0.0744],\n",
      "        [ 0.5203, -0.4485, -0.3049],\n",
      "        [-0.0451,  0.2077,  0.5405],\n",
      "        [ 0.2166,  0.0862,  0.5356],\n",
      "        [ 0.5961, -0.1749, -0.0715],\n",
      "        [-0.6581, -0.0653, -0.6177],\n",
      "        [-0.1506,  0.4533, -0.2140]], requires_grad=True)\n",
      "Parameter containing:\n",
      "tensor([[-0.0013],\n",
      "        [-0.0023],\n",
      "        [ 0.0052],\n",
      "        [ 0.0003],\n",
      "        [ 0.0029],\n",
      "        [-0.0002],\n",
      "        [-0.0095],\n",
      "        [-0.0078],\n",
      "        [-0.0019],\n",
      "        [ 0.0001]], requires_grad=True)\n",
      "Parameter containing:\n",
      "tensor([[-0.1798,  0.5047, -0.5551],\n",
      "        [ 0.6008,  0.5724, -0.0637],\n",
      "        [ 0.5595, -0.5750, -0.6586],\n",
      "        [-0.4027,  0.5896, -0.5307],\n",
      "        [-0.2686,  0.1566, -0.5438],\n",
      "        [-0.3817,  0.3379,  0.2360],\n",
      "        [ 0.4386,  0.0638, -0.6725],\n",
      "        [ 0.2236,  0.3328,  0.3883],\n",
      "        [ 0.4486, -0.3878, -0.2408],\n",
      "        [ 0.6230, -0.1144, -0.1474]], requires_grad=True)\n",
      "Parameter containing:\n",
      "tensor([[-0.0054],\n",
      "        [ 0.0062],\n",
      "        [-0.0032],\n",
      "        [-0.0029],\n",
      "        [ 0.0083],\n",
      "        [ 0.0058],\n",
      "        [-0.0079],\n",
      "        [ 0.0084],\n",
      "        [ 0.0025],\n",
      "        [-0.0056]], requires_grad=True)\n"
     ]
    }
   ],
   "source": [
    "class MatrixFactorizationWithBiasNoXavier(nn.Module):\n",
    "    def __init__(self, num_people, num_partners, weights=(0, 1), bias=(-0.01, 0.01), emb_size=100):\n",
    "        super(MatrixFactorizationWithBiasNoXavier, self).__init__()\n",
    "        self.person_emb = nn.Embedding(num_people, emb_size)\n",
    "        self.person_bias = nn.Embedding(num_people, 1)\n",
    "        self.partner_emb = nn.Embedding(num_partners, emb_size)\n",
    "        self.parnter_bias = nn.Embedding(num_partners, 1)\n",
    "        self.person_emb.weight.data.uniform_(weights[0], weights[1])\n",
    "        self.partner_emb.weight.data.uniform_(weights[0], weights[1])\n",
    "        self.person_bias.weight.data.uniform_(bias[0], bias[1])\n",
    "        self.parnter_bias.weight.data.uniform_(bias[0], bias[1])\n",
    "            \n",
    "    def forward(self, u, v):\n",
    "        u = self.person_emb(u)\n",
    "        v = self.partner_emb(v)\n",
    "        bias_u = self.person_bias(u).squeeze()\n",
    "        bias_v = self.parnter_bias(v).squeeze()\n",
    "        # calculate dot product\n",
    "        # u*v is a element wise vector multiplication\n",
    "        return torch.sigmoid((u*v).sum(1) + bias_u + bias_v)\n",
    "    \n",
    "    \n",
    "class MatrixFactorizationWithBiasXavier(nn.Module):\n",
    "    def __init__(self, num_people, num_partners, bias=(-0.01, 0.01), emb_size=100):\n",
    "        super(MatrixFactorizationWithBiasXavier, self).__init__()\n",
    "        self.person_emb = nn.Embedding(num_people, emb_size)\n",
    "        self.person_bias = nn.Embedding(num_people, 1)\n",
    "        self.partner_emb = nn.Embedding(num_partners, emb_size)\n",
    "        self.parnter_bias = nn.Embedding(num_partners, 1)\n",
    "        torch.nn.init.xavier_uniform_(self.person_emb.weight)\n",
    "        torch.nn.init.xavier_uniform_(self.partner_emb.weight)\n",
    "        self.person_bias.weight.data.uniform_(bias[0], bias[1])\n",
    "        self.parnter_bias.weight.data.uniform_(bias[0], bias[1])\n",
    "            \n",
    "    def forward(self, u, v):\n",
    "        u = self.person_emb(u)\n",
    "        v = self.partner_emb(v)\n",
    "        bias_u = self.person_bias(u).squeeze()\n",
    "        bias_v = self.parnter_bias(v).squeeze()\n",
    "        # calculate dot product\n",
    "        # u*v is a element wise vector multiplication\n",
    "        return torch.sigmoid((u*v).sum(1) + bias_u + bias_v)\n",
    "    \n",
    "\n",
    "# Example small models demonstrating weights\n",
    "example_model_no_xavier = MatrixFactorizationWithBiasNoXavier(10, 10, bias=(0, 0), emb_size=3)\n",
    "example_model_xavier = MatrixFactorizationWithBiasXavier(10, 10, emb_size=3)\n",
    "print(\"Model with without xavier weights are:\\n\")\n",
    "for p in example_model_no_xavier.parameters():\n",
    "    print(p)\n",
    "print('\\n\\n', '='*20)\n",
    "print(\"\\n\\nModel with with xavier weights are:\\n\")\n",
    "for p in example_model_xavier.parameters():\n",
    "    print(p)"
   ]
  },
  {
   "cell_type": "markdown",
   "metadata": {},
   "source": [
    "### Training and testing functions are below"
   ]
  },
  {
   "cell_type": "code",
   "execution_count": 25,
   "metadata": {},
   "outputs": [],
   "source": [
    "def test(model, df_test, verbose=False):\n",
    "    model.eval()\n",
    "    # .to(dev) puts code on either gpu or cpu.\n",
    "    people = torch.LongTensor(df_test.id.values).to(dev)\n",
    "    partners = torch.LongTensor(df_test.pid.values).to(dev)\n",
    "    decision = torch.FloatTensor(df_test.decision.values).to(dev)\n",
    "    y_hat = model(people, partners)\n",
    "    loss = F.mse_loss(y_hat, decision)\n",
    "    if verbose:\n",
    "        print('test loss %.3f ' % loss.item())\n",
    "    return loss.item()\n",
    "\n",
    "\n",
    "# Default values assigned below are ones that I found online.\n",
    "# Cross validadtion will be done later but it's good to have some defaults.\n",
    "def train(model, df_train, epochs=100, learning_rate=0.01, weight_decay=1e-5, verbose=False):\n",
    "    optimizer = torch.optim.Adam(model.parameters(), lr=learning_rate, weight_decay=weight_decay)\n",
    "    model.train()\n",
    "    \n",
    "    for epoch in range(epochs):\n",
    "        # From numpy to PyTorch tensors.\n",
    "        # .to(dev) puts code on either gpu or cpu.\n",
    "        people = torch.LongTensor(df_train.id.values).to(dev)\n",
    "        partners = torch.LongTensor(df_train.pid.values).to(dev)\n",
    "        decision = torch.FloatTensor(df_train.decision.values).to(dev)\n",
    "        \n",
    "        # calls forward method of the model\n",
    "        y_hat = model(people, partners)\n",
    "        # Using mean squared errors loss function\n",
    "        loss = F.mse_loss(y_hat, decision)\n",
    "        optimizer.zero_grad()\n",
    "        loss.backward()\n",
    "        optimizer.step()\n",
    "        \n",
    "        if verbose and epoch % 100 == 0: \n",
    "            print(loss.item())"
   ]
  },
  {
   "cell_type": "markdown",
   "metadata": {},
   "source": [
    "# Let's finally train models and choose the best one\n",
    "\n",
    "## Let's first train men_like_women"
   ]
  },
  {
   "cell_type": "markdown",
   "metadata": {},
   "source": [
    "## Cross validation on each model"
   ]
  },
  {
   "cell_type": "code",
   "execution_count": 55,
   "metadata": {},
   "outputs": [],
   "source": [
    "from itertools import product\n",
    "from tqdm import tqdm\n",
    "\n",
    "epochs_poss = list(range(10, 310, 10))\n",
    "weight_decay_poss = [0.0, 1e-6, 1e-5, 1e-4, 0.0001, 0.001, 0.01, 0.1, 1.0]\n",
    "learning_rate_poss = [1e-6, 1e-5, 1e-4, 0.0001, 0.001, 0.01, 0.1, 1.0]\n",
    "weights_poss = [(0, 1), (-1, 1), (0, 0.2), (-0.2, 0.2), 'xavier']\n",
    "bias_poss = [None, (0, 0), (-0.01, 0.01), (0, 1), (-1, 1)]\n",
    "emb_size_poss = [10, 50, 100, 150]\n",
    "\n",
    "def cross_vaild_model(model, train_df, test_df, verbose=False):\n",
    "    \"\"\"Function to choose the best hyperparameters for a model.\"\"\"\n",
    "    min_loss = float('inf')\n",
    "    best_settings = None\n",
    "\n",
    "    for (epochs, wd, lr) in tqdm(product(epochs_poss, weight_decay_poss, learning_rate_poss)):\n",
    "        train(model, train_df, epochs=epochs, learning_rate=lr, weight_decay=wd)\n",
    "        test_loss = test(model, test_df)\n",
    "        if (test_loss < min_loss) or (test_loss == min_loss and best_settings is not None and epochs < best_settings['epochs']):\n",
    "            min_loss = test_loss\n",
    "            best_settings = {'epochs': epochs, 'weight_decay': wd, 'learning_rate_poss': lr}\n",
    "    if verbose:\n",
    "        print('min loss %.3f' % min_loss)\n",
    "        print('best settings are', best_settings)\n",
    "    return min_loss, best_settings\n",
    "\n",
    "\n",
    "def cross_vaild(num_people, num_partners, train_df, test_df, verbose=False):\n",
    "    \"\"\"Function to choose the best model.\"\"\"\n",
    "    min_loss = float('inf')\n",
    "    best_settings = None\n",
    "    \n",
    "    for (weights, bias, emb_size) in tqdm(product(weights_poss, bias_poss, emb_size_poss)):\n",
    "        model = None\n",
    "        if weights == 'xavier':\n",
    "            if bias is None:\n",
    "                model = MatrixFactorizationWithoutBiasXavier(num_people, num_partners, emb_size=emb_size).to(dev)\n",
    "            else:\n",
    "                model = MatrixFactorizationWithBiasXavier(num_people, num_partners, bias=bias, emb_size=emb_size).to(dev)\n",
    "        else:\n",
    "            if bias is None:\n",
    "                model = MatrixFactorizationWithoutBiasNoXavier(num_people, num_partners, weights=weights, emb_size=emb_size).to(dev)\n",
    "            else:\n",
    "                model = MatrixFactorizationWithBiasNoXavier(num_people, num_partners, weights=weights, bias=bias, emb_size=emb_size).to(dev)\n",
    "        \n",
    "        model_min_loss, model_best_settings = cross_vaild_model(model, train_df, test_df, verbose)\n",
    "        if (model_min_loss < min_loss) or (model_min_loss == min_loss and best_settings and emb_size < best_settings['emb_size']):\n",
    "            min_loss = model_min_loss\n",
    "            curr_settings = {'model': model, 'weights': weights, 'bias': bias, 'emb_size': emb_size}\n",
    "            best_settings = {**curr_settings, **model_best_settings}\n",
    "            \n",
    "    return min_loss, best_settings"
   ]
  },
  {
   "cell_type": "code",
   "execution_count": 56,
   "metadata": {},
   "outputs": [
    {
     "name": "stderr",
     "output_type": "stream",
     "text": [
      "2160it [08:51,  4.06it/s]"
     ]
    },
    {
     "name": "stdout",
     "output_type": "stream",
     "text": [
      "(0.18855620920658112, {'epochs': 120, 'weight_decay': 0.0, 'learning_rate_poss': 0.001})\n"
     ]
    },
    {
     "name": "stderr",
     "output_type": "stream",
     "text": [
      "\n"
     ]
    }
   ],
   "source": [
    "# min_loss, best_settings = cross_vaild(men_like_women_no_men, men_like_women_no_women, men_like_women_train_df, men_like_women_test_df)\n",
    "# print(min_loss)\n",
    "# print(best_settings)\n",
    "model = MatrixFactorizationWithoutBiasNoXavier(men_like_women_no_men, men_like_women_no_women).to(dev)\n",
    "print(cross_vaild_model(model, men_like_women_train_df, men_like_women_test_df))"
   ]
  },
  {
   "cell_type": "code",
   "execution_count": null,
   "metadata": {},
   "outputs": [],
   "source": [
    "# model.eval()\n",
    "# print(model(torch.LongTensor(men_like_women_train_df.id).to(dev), torch.LongTensor(men_like_women_train_df.pid).to(dev)))"
   ]
  },
  {
   "cell_type": "markdown",
   "metadata": {},
   "source": [
    "## Let's create logistic regression\n",
    "Now, to create regression models, both used before and after, we will modify data set in such ways:\n",
    "1. With modified income column - here the missing values are filled with the mean of the column and modified attr_5_1 columns - here the missing values are filled with the mean of the columns.\n",
    "2. Without income and attr_5_1 columns.\n",
    "\n",
    "#### Later we will aply the logic to combine this with MF.\n",
    "\n",
    "It's going to be used:\n",
    "1. Before matrix factorization - output of this model will be used as a input to MF.\n",
    "2. Before matrix factorization - output of MF will be used as input in this model, as one of the features.\n",
    "\n",
    "We will try 3 diffetent combinations:\n",
    "1. Regression before MF.\n",
    "2. Regression after MF.\n",
    "3. Regression before and after MF.\n"
   ]
  },
  {
   "cell_type": "markdown",
   "metadata": {},
   "source": [
    "### Data preprocessing for logistic regression"
   ]
  },
  {
   "cell_type": "code",
   "execution_count": 50,
   "metadata": {},
   "outputs": [],
   "source": [
    "def fill_with_mean(df):\n",
    "    \"\"\"Function fills missing values with mean of the column\"\"\"\n",
    "    col_means = df.mean()\n",
    "    for index, row in df.iterrows():\n",
    "        for column in df.columns:\n",
    "            if column != 'field' and column != 'race_o' and column != 'met_o' and column != 'race' and column != 'goal' and column != 'date' and column != 'go_out' and column != 'career_c':\n",
    "                if np.isnan(row[column]):\n",
    "                    df.at[index, column] = col_means[column]\n",
    "            elif column == 'field' and np.isnan(row['field']):\n",
    "                df.at[index, column] = 8\n",
    "            elif column == 'race_o' and np.isnan(row['race_o']):\n",
    "                df.at[index, column] = 2\n",
    "            elif column == 'race' and np.isnan(row['race']):\n",
    "                df.at[index, column] = 2\n",
    "            elif column == 'goal' and np.isnan(row['goal']):\n",
    "                df.at[index, column] = 1\n",
    "            elif column == 'date' and np.isnan(row['date']):\n",
    "                df.at[index, column] = 6\n",
    "            elif column == 'go_out' and np.isnan(row['go_out']):\n",
    "                df.at[index, column] = 2\n",
    "            elif column == 'career_c' and np.isnan(row['career_c']):\n",
    "                df.at[index, column] = 2\n",
    "            elif column == 'met_o' and (np.isnan(row['met_o']) or row['met_o'] != 0):\n",
    "                df.at[index, column] = 1\n",
    "    return df"
   ]
  },
  {
   "cell_type": "markdown",
   "metadata": {},
   "source": [
    "### Option 1\n",
    "Modified income column - here the missing values are filled with the mean of the column and modified attr_5_1 columns - here the missing values are filled with the mean of the columns."
   ]
  },
  {
   "cell_type": "code",
   "execution_count": 43,
   "metadata": {},
   "outputs": [],
   "source": [
    "regression_df_1 = base_df.copy()\n",
    "regression_df_1 = fill_with_mean(regression_df_1)"
   ]
  },
  {
   "cell_type": "markdown",
   "metadata": {},
   "source": [
    "### Option 2\n",
    "Without income and attr_5_1 columns."
   ]
  },
  {
   "cell_type": "code",
   "execution_count": 54,
   "metadata": {},
   "outputs": [],
   "source": [
    "regression_df_2 = base_df.copy()\n",
    "cols_to_drop = ['income', 'attr5_1', 'sinc5_1', 'intel5_1', 'fun5_1', 'amb5_1']\n",
    "regression_df_2 = regression_df_2.drop(columns=cols_to_drop)\n",
    "regression_df_2 = fill_with_mean(regression_df_2)"
   ]
  },
  {
   "cell_type": "code",
   "execution_count": null,
   "metadata": {},
   "outputs": [],
   "source": []
  }
 ],
 "metadata": {
  "kernelspec": {
   "display_name": "Python 3",
   "language": "python",
   "name": "python3"
  },
  "language_info": {
   "codemirror_mode": {
    "name": "ipython",
    "version": 3
   },
   "file_extension": ".py",
   "mimetype": "text/x-python",
   "name": "python",
   "nbconvert_exporter": "python",
   "pygments_lexer": "ipython3",
   "version": "3.8.5"
  }
 },
 "nbformat": 4,
 "nbformat_minor": 4
}
