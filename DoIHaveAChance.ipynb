{
 "cells": [
  {
   "cell_type": "code",
   "execution_count": 2,
   "metadata": {},
   "outputs": [],
   "source": [
    "# base imports\n",
    "import pandas as pd\n",
    "import numpy as np"
   ]
  },
  {
   "cell_type": "code",
   "execution_count": 3,
   "metadata": {},
   "outputs": [],
   "source": [
    "# Data preparation: \n",
    "# Some data is missing (but we know what it should be) or some data should be changed.\n",
    "df = pd.read_csv('./speed_dating_data.csv', encoding = 'ISO-8859-1')\n",
    "\n",
    "def fooCareer(col):\n",
    "    selected_df = df[col]\n",
    "    career_c = {\n",
    "        'lawyer': 1.,\n",
    "        'law': 1.,\n",
    "        'Economics': 7.,\n",
    "        'tech professional': 5.\n",
    "    }\n",
    "    \n",
    "    for x, row in selected_df.iterrows():\n",
    "            career = df.at[x, col[0]]\n",
    "            if career in career_c:\n",
    "                df.at[x, col[1]] = career_c[career]\n",
    "                \n",
    "\n",
    "def fooGoal(col):\n",
    "    selected_df = df[col]\n",
    "    goal_c = {\n",
    "        1: 1,\n",
    "        2: 1,\n",
    "        3: 1,\n",
    "        4: 0,\n",
    "        5: 1,\n",
    "        6: 1,\n",
    "    }\n",
    "    \n",
    "    for x, row in selected_df.iteritems():\n",
    "        goal = df.at[x, col]\n",
    "        if goal in goal_c:\n",
    "            df.at[x, col] = goal_c[goal]\n",
    "\n",
    "fooCareer(['career','career_c'])\n",
    "fooGoal('goal')\n",
    "df.to_csv('base_dating_data.csv', index=False)"
   ]
  },
  {
   "cell_type": "code",
   "execution_count": 4,
   "metadata": {},
   "outputs": [
    {
     "name": "stderr",
     "output_type": "stream",
     "text": [
      "<ipython-input-4-023d9bb5a582>:9: RuntimeWarning: divide by zero encountered in double_scalars\n",
      "  multiplier = 100/row.sum()\n",
      "<ipython-input-4-023d9bb5a582>:11: RuntimeWarning: invalid value encountered in double_scalars\n",
      "  df.at[x, col] *= multiplier\n"
     ]
    }
   ],
   "source": [
    "# data is inconsistent:\n",
    "# Some values (it’s based on waves) are 1-10 and others are 1-100 so\n",
    "# they should be normalized so that all are 1-100.\n",
    "df = pd.read_csv('base_dating_data.csv')\n",
    "\n",
    "def func(lista):\n",
    "    selected_df = df[lista]\n",
    "    for x, row in selected_df.iterrows():\n",
    "        multiplier = 100/row.sum()\n",
    "        for col in lista:\n",
    "            df.at[x, col] *= multiplier\n",
    "\n",
    "lista = ['attr1_1', 'sinc1_1', 'intel1_1', 'fun1_1', 'amb1_1', 'shar1_1']\n",
    "lista1 = ['attr_o', 'sinc_o', 'intel_o', 'fun_o', 'amb_o', 'shar_o']\n",
    "lista3 = ['attr2_1', 'sinc2_1', 'intel2_1', 'fun2_1', 'amb2_1', 'shar2_1']\n",
    "lista4 = ['attr1_2', 'sinc1_2', 'intel1_2', 'fun1_2', 'amb1_2', 'shar1_2']\n",
    "\n",
    "func(lista)\n",
    "func(lista1)\n",
    "func(lista3)\n",
    "func(lista4)\n",
    "\n",
    "df.to_csv('base_dating_data.csv', index=False)"
   ]
  },
  {
   "cell_type": "code",
   "execution_count": 5,
   "metadata": {},
   "outputs": [],
   "source": [
    "# Column met_o had values 1/2. It needs to be changed to 0/1.\n",
    "df = pd.read_csv('./base_dating_data.csv')\n",
    "df['met_o'] = df['met_o'].apply(lambda x: x - 1)\n",
    "df.to_csv('base_dating_data.csv', index=False)"
   ]
  },
  {
   "cell_type": "markdown",
   "metadata": {},
   "source": [
    "We removed some rows (by hand) because they didn't have `pid`."
   ]
  },
  {
   "cell_type": "markdown",
   "metadata": {},
   "source": [
    "### Below you can see code that prepares data for the basic matrix factorization.\n",
    "Here in the base matrix we only have information about match. So we need a set of vectors, where each vector describes each date (holds both ids and information about match).\n",
    "\n",
    "Task will requite two base matrices.\n",
    "1. Matrix where men are \"users\" and women are \"products\". It will then be used to recommend women to men because matrix will say what's the predicted rating of a woman in eyes of man. Basically it will answer the question: **\"How likely is that a man will like a woman?\"**. Let's call this matrix/data frame **\"men_like_women\"**.\n",
    "1. Matrix where women are \"users\" and men are \"products\". It will then be used to recommend men to women because matrix will say what's the predicted rating of a man in eyes of woman. Basically it will answer the question: **\"How likely is that a woman will like a man?\"**. Let's call this matrix/data frame **\"women_like_men\"**.\n",
    "\n",
    "Why such analogies? It may help to understand how do this human relations task translates into recommender systems world.\n",
    "\n",
    "These matrices will be used to train models (with matrix factorization) which will then be saved into csv files."
   ]
  },
  {
   "cell_type": "code",
   "execution_count": 6,
   "metadata": {},
   "outputs": [
    {
     "name": "stdout",
     "output_type": "stream",
     "text": [
      "\n",
      "\n",
      "men_like_women_df:\n",
      "         id    pid  decision\n",
      "0      11.0    1.0       0.0\n",
      "1      11.0    2.0       0.0\n",
      "2      11.0    3.0       0.0\n",
      "3      11.0    4.0       0.0\n",
      "4      11.0    5.0       0.0\n",
      "...     ...    ...       ...\n",
      "4179  552.0  526.0       0.0\n",
      "4180  552.0  527.0       0.0\n",
      "4181  552.0  528.0       0.0\n",
      "4182  552.0  529.0       0.0\n",
      "4183  552.0  530.0       0.0\n",
      "\n",
      "[4184 rows x 3 columns]\n",
      "\n",
      "women_like_men_df:\n",
      "         id    pid  decision\n",
      "0       1.0   11.0       1.0\n",
      "1       1.0   12.0       1.0\n",
      "2       1.0   13.0       1.0\n",
      "3       1.0   14.0       1.0\n",
      "4       1.0   15.0       1.0\n",
      "...     ...    ...       ...\n",
      "4179  530.0  548.0       0.0\n",
      "4180  530.0  549.0       1.0\n",
      "4181  530.0  550.0       0.0\n",
      "4182  530.0  551.0       0.0\n",
      "4183  530.0  552.0       1.0\n",
      "\n",
      "[4184 rows x 3 columns]\n"
     ]
    }
   ],
   "source": [
    "# Split into vectors, let's have two matrices as describes above.\n",
    "base_df = pd.read_csv('./data_for_matrix.csv')\n",
    "men_like_women_data = []\n",
    "women_like_men_data = []\n",
    "\n",
    "for _, row in base_df.iterrows():\n",
    "    vector = {\n",
    "        'id': row['iid'],\n",
    "        'pid': row['pid'],\n",
    "        'decision': row['dec'],\n",
    "    }\n",
    "    if row['gender'] == 0:\n",
    "        # it's a woman\n",
    "        women_like_men_data.append(vector)\n",
    "    else:\n",
    "        men_like_women_data.append(vector)\n",
    "\n",
    "men_like_women_df = pd.DataFrame(men_like_women_data)\n",
    "women_like_men_df = pd.DataFrame(women_like_men_data)\n",
    "\n",
    "print('\\n\\nmen_like_women_df:')\n",
    "print(men_like_women_df)\n",
    "print('\\nwomen_like_men_df:')\n",
    "print(women_like_men_df)"
   ]
  },
  {
   "cell_type": "markdown",
   "metadata": {},
   "source": [
    "## Let's prepare train and test data sets\n",
    "\n",
    "### Make ids contiguous\n",
    "We need to change the data. As you can see ids are not contiguous and they must be. So let's change that."
   ]
  },
  {
   "cell_type": "code",
   "execution_count": 7,
   "metadata": {},
   "outputs": [],
   "source": [
    "def proc_col(column):\n",
    "    \"\"\"Encodes a pandas column with continous ids.\"\"\"\n",
    "    unique = column.unique()\n",
    "    old_to_new = {o: i for i, o in enumerate(unique)}\n",
    "    return np.array([old_to_new.get(x, -1) for x in column])\n",
    "\n",
    "\n",
    "def encode_data(df):\n",
    "    \"\"\"Encodes data with continous person and partner ids.\"\"\"\n",
    "    df = df.copy()\n",
    "    for col_name in [\"id\", \"pid\"]:\n",
    "        col = proc_col(df[col_name])\n",
    "        df[col_name] = col\n",
    "        df = df[df[col_name] >= 0]\n",
    "    return df"
   ]
  },
  {
   "cell_type": "markdown",
   "metadata": {},
   "source": [
    "And now use these functions to make ids contiguous."
   ]
  },
  {
   "cell_type": "code",
   "execution_count": 8,
   "metadata": {},
   "outputs": [
    {
     "name": "stdout",
     "output_type": "stream",
     "text": [
      "Before:\n",
      "         id    pid  decision\n",
      "0      11.0    1.0       0.0\n",
      "1      11.0    2.0       0.0\n",
      "2      11.0    3.0       0.0\n",
      "3      11.0    4.0       0.0\n",
      "4      11.0    5.0       0.0\n",
      "...     ...    ...       ...\n",
      "4179  552.0  526.0       0.0\n",
      "4180  552.0  527.0       0.0\n",
      "4181  552.0  528.0       0.0\n",
      "4182  552.0  529.0       0.0\n",
      "4183  552.0  530.0       0.0\n",
      "\n",
      "[4184 rows x 3 columns]\n",
      "\n",
      "After:\n",
      "       id  pid  decision\n",
      "0       0    0       0.0\n",
      "1       0    1       0.0\n",
      "2       0    2       0.0\n",
      "3       0    3       0.0\n",
      "4       0    4       0.0\n",
      "...   ...  ...       ...\n",
      "4179  276  269       0.0\n",
      "4180  276  270       0.0\n",
      "4181  276  271       0.0\n",
      "4182  276  272       0.0\n",
      "4183  276  273       0.0\n",
      "\n",
      "[4184 rows x 3 columns]\n"
     ]
    }
   ],
   "source": [
    "print('Before:')\n",
    "print(men_like_women_df)\n",
    "men_like_women_df = encode_data(men_like_women_df)\n",
    "print('\\nAfter:')\n",
    "print(men_like_women_df)\n",
    "\n",
    "women_like_men_df = encode_data(women_like_men_df)"
   ]
  },
  {
   "cell_type": "markdown",
   "metadata": {},
   "source": [
    "### Let's split into train and test data sets\n",
    "Standard sklearn function `train_test_split` doesn't do a job here because both test and train data sets should include all people. So after using `train_test_split` we need to transition some people between sets to ensure that both sets are correct. The same goes for partners."
   ]
  },
  {
   "cell_type": "code",
   "execution_count": 9,
   "metadata": {},
   "outputs": [],
   "source": [
    "from sklearn.model_selection import train_test_split as tts\n",
    "\n",
    "def train_test_split(df, test_size=0.2):\n",
    "    # Use standard train_test_split.\n",
    "    df_train, df_test = tts(df, test_size=test_size)\n",
    "    no_train_unique = len(df_train.id.unique())\n",
    "    no_test_unique = len(df_test.id.unique())\n",
    "    \n",
    "    # See what people are missing in the test set.\n",
    "    diff = np.setdiff1d(df_train.id.unique(), df_test.id.unique())\n",
    "    for id in diff:\n",
    "        # For every missing person we need to exchange them for a\n",
    "        # different one so that sets still have the same number of elements.\n",
    "        person_to_send_to_test = df_train.loc[df_train.id == id].iloc[0]\n",
    "        person_to_send_to_train = None\n",
    "        # Choose some person from the test set to send to the train set.\n",
    "        ids = df_test.id.unique()\n",
    "        np.random.shuffle(ids)\n",
    "        for test_id in ids:\n",
    "            person = df_test.loc[df_test.id == test_id]\n",
    "            if len(person.index) > 1:\n",
    "                person_to_send_to_train = person.iloc[0]\n",
    "                break\n",
    "        if person_to_send_to_train is not None:\n",
    "            # Remove people that transit from old sets.\n",
    "            # .name holds the id of that row in the oryginal df.\n",
    "            df_train = df_train.drop(person_to_send_to_test.name)\n",
    "            df_test = df_test.drop(person_to_send_to_train.name)\n",
    "            # Add new people to sets.\n",
    "            df_train = pd.concat([df_train, person_to_send_to_train.to_frame().T], ignore_index=True)\n",
    "            df_test = pd.concat([df_test, person_to_send_to_test.to_frame().T], ignore_index=True)\n",
    "        else:\n",
    "            raise Exception(\"Couldn't find any person from people to send from the test to the train.\")\n",
    "        \n",
    "    # See what partners are missing in the test set.\n",
    "    diff = np.setdiff1d(df_train.pid.unique(), df_test.pid.unique())\n",
    "    for pid in diff:\n",
    "        # For every missing partner we need to exchange them for a\n",
    "        # different one so that sets still have the same number of elements.\n",
    "        partner_to_send_to_test = df_train.loc[df_train.pid == pid].iloc[0]\n",
    "        partner_to_send_to_train = None\n",
    "        \n",
    "        # Choose some partner from the test set to send to the train set.\n",
    "        # Need to make sure that both sets will still have all the people.\n",
    "        pids = df_test.pid.unique()\n",
    "        np.random.shuffle(pids)\n",
    "        for test_pid in pids:\n",
    "            partner = df_test.loc[df_test.pid == test_pid]\n",
    "            if len(partner.index) > 1:\n",
    "                # Make sure we don't remove a person completely.\n",
    "                id = partner.iloc[0].id\n",
    "                person_qty = len(df_test.loc[df_test.id == id].index)\n",
    "                if person_qty > 1:\n",
    "                    partner_to_send_to_train = partner.iloc[0]\n",
    "                    break\n",
    "        if partner_to_send_to_train is not None:\n",
    "            # Remove partners that transit from old sets.\n",
    "            df_train = df_train.drop(partner_to_send_to_test.name)\n",
    "            df_test = df_test.drop(partner_to_send_to_train.name)\n",
    "            # Add new people to sets.\n",
    "            df_train = pd.concat([df_train, partner_to_send_to_train.to_frame().T], ignore_index=True)\n",
    "            df_test = pd.concat([df_test, partner_to_send_to_test.to_frame().T], ignore_index=True)\n",
    "        else:\n",
    "            raise Exception(\"Couldn't find any partner from partners to send from the test to the train.\")\n",
    "                    \n",
    "    df_train = df_train.sort_values(by='id')\n",
    "    df_test = df_test.sort_values(by='id')\n",
    "    return df_train.reset_index(drop=True), df_test.sort_values(by='id').reset_index(drop=True)"
   ]
  },
  {
   "cell_type": "markdown",
   "metadata": {},
   "source": [
    "### And now just get correct data"
   ]
  },
  {
   "cell_type": "code",
   "execution_count": 10,
   "metadata": {},
   "outputs": [],
   "source": [
    "men_like_women_train_df, men_like_women_test_df = train_test_split(men_like_women_df, test_size=0.2)\n",
    "men_like_women_no_men = len(men_like_women_train_df.id.unique())\n",
    "men_like_women_no_women = len(men_like_women_train_df.pid.unique())\n",
    "\n",
    "women_like_men_train_df, women_like_men_test_df = train_test_split(women_like_men_df, test_size=0.2)\n",
    "women_like_men_no_women = len(women_like_men_train_df.id.unique())\n",
    "women_like_men_no_men = len(women_like_men_train_df.pid.unique())"
   ]
  },
  {
   "cell_type": "markdown",
   "metadata": {},
   "source": [
    "## Let's create matrix factorization models\n",
    "\n",
    "We will create and train several base MF (matrix factorization) models and for each of them let's do a cross validation to learn the best hyperparameters and parameters. Then we will compare the results and choose the best model.\n",
    "\n",
    "Some general explanations for models:\n",
    "* Models are train on only one batch because our data set is rather small.\n",
    "\n",
    "Good reading resource: https://towardsdatascience.com/weight-initialization-techniques-in-neural-networks-26c649eb3b78"
   ]
  },
  {
   "cell_type": "code",
   "execution_count": 24,
   "metadata": {},
   "outputs": [
    {
     "data": {
      "text/plain": [
       "device(type='cpu')"
      ]
     },
     "execution_count": 24,
     "metadata": {},
     "output_type": "execute_result"
    }
   ],
   "source": [
    "import torch\n",
    "import torch.nn as nn\n",
    "import torch.nn.functional as F\n",
    "\n",
    "dev = torch.device('cpu')\n",
    "#dev = torch.device('cuda') if torch.cuda.is_available() else torch.device('cpu')\n",
    "dev"
   ]
  },
  {
   "cell_type": "markdown",
   "metadata": {},
   "source": [
    "### Matrix factorization without bias"
   ]
  },
  {
   "cell_type": "code",
   "execution_count": 25,
   "metadata": {},
   "outputs": [
    {
     "name": "stdout",
     "output_type": "stream",
     "text": [
      "Model with without xavier weights are:\n",
      "\n",
      "Parameter containing:\n",
      "tensor([[0.1749, 0.8508, 0.7031],\n",
      "        [0.9645, 0.2625, 0.8845],\n",
      "        [0.1108, 0.1730, 0.7423],\n",
      "        [0.4509, 0.2567, 0.7866],\n",
      "        [0.0333, 0.4978, 0.9542],\n",
      "        [0.9384, 0.6168, 0.3752],\n",
      "        [0.9995, 0.4324, 0.5110],\n",
      "        [0.0040, 0.9172, 0.0996],\n",
      "        [0.3266, 0.0691, 0.9855],\n",
      "        [0.9825, 0.2714, 0.8465]], requires_grad=True)\n",
      "Parameter containing:\n",
      "tensor([[0.1496, 0.9583, 0.2665],\n",
      "        [0.6169, 0.6255, 0.3359],\n",
      "        [0.9838, 0.0149, 0.3768],\n",
      "        [0.0933, 0.9356, 0.6598],\n",
      "        [0.5312, 0.8991, 0.1143],\n",
      "        [0.2122, 0.2495, 0.9514],\n",
      "        [0.0941, 0.0507, 0.7865],\n",
      "        [0.8398, 0.5725, 0.7058],\n",
      "        [0.9414, 0.9717, 0.7890],\n",
      "        [0.6272, 0.6888, 0.4022]], requires_grad=True)\n",
      "\n",
      "\n",
      " ====================\n",
      "\n",
      "\n",
      "Model with with xavier weights are:\n",
      "\n",
      "Parameter containing:\n",
      "tensor([[-0.5529, -0.0086, -0.6085],\n",
      "        [ 0.0176,  0.2395,  0.2300],\n",
      "        [ 0.2754, -0.0606, -0.2894],\n",
      "        [-0.4241,  0.5043, -0.2014],\n",
      "        [ 0.2653,  0.2426,  0.6224],\n",
      "        [-0.0641, -0.3987, -0.5619],\n",
      "        [-0.2409,  0.0403, -0.3042],\n",
      "        [-0.3385, -0.2949, -0.0250],\n",
      "        [ 0.5413,  0.5958,  0.4996],\n",
      "        [ 0.3935, -0.3068,  0.4505]], requires_grad=True)\n",
      "Parameter containing:\n",
      "tensor([[ 0.3371, -0.5199, -0.3069],\n",
      "        [-0.5203,  0.2461, -0.1694],\n",
      "        [ 0.2428, -0.3101,  0.5111],\n",
      "        [-0.6584,  0.6337,  0.4423],\n",
      "        [ 0.3795,  0.0823, -0.0721],\n",
      "        [-0.3559,  0.4552,  0.0741],\n",
      "        [-0.3888, -0.4556,  0.6238],\n",
      "        [-0.2640,  0.5017, -0.2408],\n",
      "        [-0.3524,  0.6578,  0.1880],\n",
      "        [ 0.2199, -0.5896, -0.3480]], requires_grad=True)\n"
     ]
    }
   ],
   "source": [
    "class MatrixFactorizationWithoutBiasNoXavier(nn.Module):\n",
    "    def __init__(self, num_people, num_partners, weights=(0, 1), emb_size=100):\n",
    "        super(MatrixFactorizationWithoutBiasNoXavier, self).__init__()\n",
    "        self.person_emb = nn.Embedding(num_people, emb_size)\n",
    "        self.partner_emb = nn.Embedding(num_partners, emb_size)\n",
    "        self.person_emb.weight.data.uniform_(weights[0], weights[1])\n",
    "        self.partner_emb.weight.data.uniform_(weights[0], weights[1])\n",
    "        \n",
    "    def forward(self, u, v):\n",
    "        u = self.person_emb(u)\n",
    "        v = self.partner_emb(v)\n",
    "        # calculate dot product\n",
    "        # u*v is a element wise vector multiplication\n",
    "        return torch.sigmoid((u*v).sum(1))\n",
    "\n",
    "    \n",
    "class MatrixFactorizationWithoutBiasXavier(nn.Module):\n",
    "    def __init__(self, num_people, num_partners, emb_size=100):\n",
    "        super(MatrixFactorizationWithoutBiasXavier, self).__init__()\n",
    "        self.person_emb = nn.Embedding(num_people, emb_size)\n",
    "        self.partner_emb = nn.Embedding(num_partners, emb_size)\n",
    "        torch.nn.init.xavier_uniform_(self.person_emb.weight)\n",
    "        torch.nn.init.xavier_uniform_(self.partner_emb.weight)\n",
    "        \n",
    "    def forward(self, u, v):\n",
    "        u = self.person_emb(u)\n",
    "        v = self.partner_emb(v)\n",
    "        # calculate dot product\n",
    "        # u*v is a element wise vector multiplication\n",
    "        return torch.sigmoid((u*v).sum(1))\n",
    "\n",
    "    \n",
    "# Example small models demonstrating weights\n",
    "example_model_no_xavier = MatrixFactorizationWithoutBiasNoXavier(10, 10, emb_size=3)\n",
    "example_model_xavier = MatrixFactorizationWithoutBiasXavier(10, 10, emb_size=3)\n",
    "print(\"Model with without xavier weights are:\\n\")\n",
    "for p in example_model_no_xavier.parameters():\n",
    "    print(p)\n",
    "print('\\n\\n', '='*20)\n",
    "print(\"\\n\\nModel with with xavier weights are:\\n\")\n",
    "for p in example_model_xavier.parameters():\n",
    "    print(p)"
   ]
  },
  {
   "cell_type": "markdown",
   "metadata": {},
   "source": [
    "### Matrix factorization without bias"
   ]
  },
  {
   "cell_type": "code",
   "execution_count": 26,
   "metadata": {},
   "outputs": [
    {
     "name": "stdout",
     "output_type": "stream",
     "text": [
      "Model with without xavier weights are:\n",
      "\n",
      "Parameter containing:\n",
      "tensor([[0.2547, 0.1663, 0.2969],\n",
      "        [0.1486, 0.1388, 0.0501],\n",
      "        [0.0739, 0.0908, 0.9775],\n",
      "        [0.3215, 0.4497, 0.6155],\n",
      "        [0.2173, 0.9022, 0.3188],\n",
      "        [0.9592, 0.8097, 0.1082],\n",
      "        [0.2767, 0.9906, 0.6686],\n",
      "        [0.5387, 0.1899, 0.2221],\n",
      "        [0.0841, 0.8829, 0.0987],\n",
      "        [0.6080, 0.3791, 0.1198]], requires_grad=True)\n",
      "Parameter containing:\n",
      "tensor([[0.],\n",
      "        [0.],\n",
      "        [0.],\n",
      "        [0.],\n",
      "        [0.],\n",
      "        [0.],\n",
      "        [0.],\n",
      "        [0.],\n",
      "        [0.],\n",
      "        [0.]], requires_grad=True)\n",
      "Parameter containing:\n",
      "tensor([[0.3689, 0.6824, 0.1335],\n",
      "        [0.2672, 0.1401, 0.7044],\n",
      "        [0.1378, 0.5778, 0.1191],\n",
      "        [0.1191, 0.9690, 0.6474],\n",
      "        [0.1747, 0.4584, 0.2007],\n",
      "        [0.5672, 0.1445, 0.4801],\n",
      "        [0.5076, 0.1795, 0.6687],\n",
      "        [0.4809, 0.3441, 0.9742],\n",
      "        [0.9235, 0.0237, 0.5959],\n",
      "        [0.7514, 0.9405, 0.3674]], requires_grad=True)\n",
      "Parameter containing:\n",
      "tensor([[0.],\n",
      "        [0.],\n",
      "        [0.],\n",
      "        [0.],\n",
      "        [0.],\n",
      "        [0.],\n",
      "        [0.],\n",
      "        [0.],\n",
      "        [0.],\n",
      "        [0.]], requires_grad=True)\n",
      "\n",
      "\n",
      " ====================\n",
      "\n",
      "\n",
      "Model with with xavier weights are:\n",
      "\n",
      "Parameter containing:\n",
      "tensor([[ 0.1622,  0.2852, -0.6218],\n",
      "        [-0.1705,  0.3271,  0.2944],\n",
      "        [-0.2319, -0.4361,  0.4098],\n",
      "        [ 0.3350, -0.4215,  0.3853],\n",
      "        [ 0.0941,  0.1373, -0.6362],\n",
      "        [ 0.2388,  0.5286,  0.4223],\n",
      "        [ 0.3608, -0.0287, -0.1018],\n",
      "        [ 0.0271,  0.4050, -0.3389],\n",
      "        [-0.3372,  0.6787,  0.3363],\n",
      "        [-0.2726, -0.5084,  0.0824]], requires_grad=True)\n",
      "Parameter containing:\n",
      "tensor([[ 0.0090],\n",
      "        [ 0.0026],\n",
      "        [-0.0049],\n",
      "        [ 0.0013],\n",
      "        [ 0.0053],\n",
      "        [-0.0076],\n",
      "        [-0.0062],\n",
      "        [-0.0038],\n",
      "        [-0.0037],\n",
      "        [ 0.0003]], requires_grad=True)\n",
      "Parameter containing:\n",
      "tensor([[-0.5943, -0.3746, -0.0154],\n",
      "        [ 0.6289,  0.1149, -0.5641],\n",
      "        [ 0.3380,  0.0736,  0.0178],\n",
      "        [ 0.3306,  0.3563,  0.5880],\n",
      "        [-0.5663, -0.6678,  0.0291],\n",
      "        [ 0.2161,  0.1973, -0.1626],\n",
      "        [ 0.6655, -0.5179, -0.5174],\n",
      "        [ 0.1254,  0.3661, -0.0080],\n",
      "        [-0.5350, -0.2278,  0.5891],\n",
      "        [-0.1603,  0.3071,  0.0016]], requires_grad=True)\n",
      "Parameter containing:\n",
      "tensor([[ 0.0012],\n",
      "        [ 0.0056],\n",
      "        [-0.0067],\n",
      "        [ 0.0048],\n",
      "        [-0.0006],\n",
      "        [ 0.0033],\n",
      "        [ 0.0082],\n",
      "        [-0.0056],\n",
      "        [-0.0042],\n",
      "        [ 0.0093]], requires_grad=True)\n"
     ]
    }
   ],
   "source": [
    "class MatrixFactorizationWithBiasNoXavier(nn.Module):\n",
    "    def __init__(self, num_people, num_partners, weights=(0, 1), bias=(-0.01, 0.01), emb_size=100):\n",
    "        super(MatrixFactorizationWithBiasNoXavier, self).__init__()\n",
    "        self.person_emb = nn.Embedding(num_people, emb_size)\n",
    "        self.person_bias = nn.Embedding(num_people, 1)\n",
    "        self.partner_emb = nn.Embedding(num_partners, emb_size)\n",
    "        self.parnter_bias = nn.Embedding(num_partners, 1)\n",
    "        self.person_emb.weight.data.uniform_(weights[0], weights[1])\n",
    "        self.partner_emb.weight.data.uniform_(weights[0], weights[1])\n",
    "        self.person_bias.weight.data.uniform_(bias[0], bias[1])\n",
    "        self.parnter_bias.weight.data.uniform_(bias[0], bias[1])\n",
    "            \n",
    "    def forward(self, u, v):\n",
    "        u = self.person_emb(u)\n",
    "        v = self.partner_emb(v)\n",
    "        bias_u = self.person_bias(u).squeeze()\n",
    "        bias_v = self.parnter_bias(v).squeeze()\n",
    "        # calculate dot product\n",
    "        # u*v is a element wise vector multiplication\n",
    "        return torch.sigmoid((u*v).sum(1) + bias_u + bias_v)\n",
    "    \n",
    "    \n",
    "class MatrixFactorizationWithBiasXavier(nn.Module):\n",
    "    def __init__(self, num_people, num_partners, bias=(-0.01, 0.01), emb_size=100):\n",
    "        super(MatrixFactorizationWithBiasXavier, self).__init__()\n",
    "        self.person_emb = nn.Embedding(num_people, emb_size)\n",
    "        self.person_bias = nn.Embedding(num_people, 1)\n",
    "        self.partner_emb = nn.Embedding(num_partners, emb_size)\n",
    "        self.parnter_bias = nn.Embedding(num_partners, 1)\n",
    "        torch.nn.init.xavier_uniform_(self.person_emb.weight)\n",
    "        torch.nn.init.xavier_uniform_(self.partner_emb.weight)\n",
    "        self.person_bias.weight.data.uniform_(bias[0], bias[1])\n",
    "        self.parnter_bias.weight.data.uniform_(bias[0], bias[1])\n",
    "            \n",
    "    def forward(self, u, v):\n",
    "        u = self.person_emb(u)\n",
    "        v = self.partner_emb(v)\n",
    "        bias_u = self.person_bias(u).squeeze()\n",
    "        bias_v = self.parnter_bias(v).squeeze()\n",
    "        # calculate dot product\n",
    "        # u*v is a element wise vector multiplication\n",
    "        return torch.sigmoid((u*v).sum(1) + bias_u + bias_v)\n",
    "    \n",
    "\n",
    "# Example small models demonstrating weights\n",
    "example_model_no_xavier = MatrixFactorizationWithBiasNoXavier(10, 10, bias=(0, 0), emb_size=3)\n",
    "example_model_xavier = MatrixFactorizationWithBiasXavier(10, 10, emb_size=3)\n",
    "print(\"Model with without xavier weights are:\\n\")\n",
    "for p in example_model_no_xavier.parameters():\n",
    "    print(p)\n",
    "print('\\n\\n', '='*20)\n",
    "print(\"\\n\\nModel with with xavier weights are:\\n\")\n",
    "for p in example_model_xavier.parameters():\n",
    "    print(p)"
   ]
  },
  {
   "cell_type": "markdown",
   "metadata": {},
   "source": [
    "### Training and testing functions are below"
   ]
  },
  {
   "cell_type": "code",
   "execution_count": 27,
   "metadata": {},
   "outputs": [],
   "source": [
    "def test(model, df_test, verbose=False):\n",
    "    model.eval()\n",
    "    # .to(dev) puts code on either gpu or cpu.\n",
    "    people = torch.LongTensor(df_test.id.values).to(dev)\n",
    "    partners = torch.LongTensor(df_test.pid.values).to(dev)\n",
    "    decision = torch.FloatTensor(df_test.decision.values).to(dev)\n",
    "    y_hat = model(people, partners)\n",
    "    loss = F.mse_loss(y_hat, decision)\n",
    "    if verbose:\n",
    "        print('test loss %.3f ' % loss.item())\n",
    "    return loss.item()\n",
    "\n",
    "\n",
    "# Default values assigned below are ones that I found online.\n",
    "# Cross validadtion will be done later but it's good to have some defaults.\n",
    "def train(model, df_train, epochs=100, learning_rate=0.01, weight_decay=1e-5, verbose=False):\n",
    "    optimizer = torch.optim.Adam(model.parameters(), lr=learning_rate, weight_decay=weight_decay)\n",
    "    model.train()\n",
    "    \n",
    "    for epoch in range(epochs):\n",
    "        # From numpy to PyTorch tensors.\n",
    "        # .to(dev) puts code on either gpu or cpu.\n",
    "        people = torch.LongTensor(df_train.id.values).to(dev)\n",
    "        partners = torch.LongTensor(df_train.pid.values).to(dev)\n",
    "        decision = torch.FloatTensor(df_train.decision.values).to(dev)\n",
    "        \n",
    "        # calls forward method of the model\n",
    "        y_hat = model(people, partners)\n",
    "        # Using mean squared errors loss function\n",
    "        loss = F.mse_loss(y_hat, decision)\n",
    "        optimizer.zero_grad()\n",
    "        loss.backward()\n",
    "        optimizer.step()\n",
    "        \n",
    "        if verbose and epoch % 100 == 0: \n",
    "            print(loss.item())"
   ]
  },
  {
   "cell_type": "markdown",
   "metadata": {},
   "source": [
    "# Let's finally train models and choose the best one\n",
    "\n",
    "## Let's first train men_like_women"
   ]
  },
  {
   "cell_type": "markdown",
   "metadata": {},
   "source": [
    "## Cross validation on each model"
   ]
  },
  {
   "cell_type": "code",
   "execution_count": 28,
   "metadata": {},
   "outputs": [],
   "source": [
    "from itertools import product\n",
    "from tqdm import tqdm\n",
    "\n",
    "epochs_poss = list(range(10, 310, 10))\n",
    "weight_decay_poss = [0.0, 1e-6, 1e-5, 1e-4, 0.0001, 0.001, 0.01, 0.1, 1.0]\n",
    "learning_rate_poss = [1e-6, 1e-5, 1e-4, 0.0001, 0.001, 0.01, 0.1, 1.0]\n",
    "weights_poss = [(0, 1), (-1, 1), (0, 0.2), (-0.2, 0.2), 'xavier']\n",
    "bias_poss = [None, (0, 0), (-0.01, 0.01), (0, 1), (-1, 1)]\n",
    "emb_size_poss = [10, 50, 100, 150]\n",
    "\n",
    "def cross_vaild_model(model, train_df, test_df, verbose=False):\n",
    "    \"\"\"Function to choose the best hyperparameters for a model.\"\"\"\n",
    "    min_loss = float('inf')\n",
    "    best_settings = None\n",
    "\n",
    "    for (epochs, wd, lr) in tqdm(product(epochs_poss, weight_decay_poss, learning_rate_poss)):\n",
    "        train(model, train_df, epochs=epochs, learning_rate=lr, weight_decay=wd)\n",
    "        test_loss = test(model, test_df)\n",
    "        if (test_loss < min_loss) or (test_loss == min_loss and best_settings is not None and epochs < best_settings['epochs']):\n",
    "            min_loss = test_loss\n",
    "            best_settings = {'epochs': epochs, 'weight_decay': wd, 'learning_rate_poss': lr}\n",
    "    if verbose:\n",
    "        print('min loss %.3f' % min_loss)\n",
    "        print('best settings are', best_settings)\n",
    "    return min_loss, best_settings\n",
    "\n",
    "\n",
    "def cross_vaild(num_people, num_partners, train_df, test_df, verbose=False):\n",
    "    \"\"\"Function to choose the best model.\"\"\"\n",
    "    min_loss = float('inf')\n",
    "    best_settings = None\n",
    "    \n",
    "    for (weights, bias, emb_size) in tqdm(product(weights_poss, bias_poss, emb_size_poss)):\n",
    "        model = None\n",
    "        if weights == 'xavier':\n",
    "            if bias is None:\n",
    "                model = MatrixFactorizationWithoutBiasXavier(num_people, num_partners, emb_size=emb_size).to(dev)\n",
    "            else:\n",
    "                model = MatrixFactorizationWithBiasXavier(num_people, num_partners, bias=bias, emb_size=emb_size).to(dev)\n",
    "        else:\n",
    "            if bias is None:\n",
    "                model = MatrixFactorizationWithoutBiasNoXavier(num_people, num_partners, weights=weights, emb_size=emb_size).to(dev)\n",
    "            else:\n",
    "                model = MatrixFactorizationWithBiasNoXavier(num_people, num_partners, weights=weights, bias=bias, emb_size=emb_size).to(dev)\n",
    "        \n",
    "        model_min_loss, model_best_settings = cross_vaild_model(model, train_df, test_df, verbose)\n",
    "        if (model_min_loss < min_loss) or (model_min_loss == min_loss and best_settings and emb_size < best_settings['emb_size']):\n",
    "            min_loss = model_min_loss\n",
    "            curr_settings = {'model': model, 'weights': weights, 'bias': bias, 'emb_size': emb_size}\n",
    "            best_settings = {**curr_settings, **model_best_settings}\n",
    "            \n",
    "    return min_loss, best_settings"
   ]
  },
  {
   "cell_type": "code",
   "execution_count": 29,
   "metadata": {},
   "outputs": [],
   "source": [
    "# model.eval()\n",
    "# print(model(torch.LongTensor(men_like_women_train_df.id).to(dev), torch.LongTensor(men_like_women_train_df.pid).to(dev)))"
   ]
  },
  {
   "cell_type": "markdown",
   "metadata": {},
   "source": [
    "## Let's create logistic regression\n",
    "Now, to create regression models, both used before and after, we will modify data set in such ways:\n",
    "1. With modified income column - here the missing values are filled with the mean of the column and modified attr_5_1 columns - here the missing values are filled with the mean of the columns.\n",
    "2. Without income and attr_5_1 columns.\n",
    "\n",
    "#### Later we will aply the logic to combine this with MF.\n",
    "\n",
    "It's going to be used:\n",
    "1. Before matrix factorization - output of this model will be used as a input to MF.\n",
    "2. Before matrix factorization - output of MF will be used as input in this model, as one of the features.\n",
    "\n",
    "We will try 3 diffetent combinations:\n",
    "1. Regression before MF.\n",
    "2. Regression after MF.\n",
    "3. Regression before and after MF.\n"
   ]
  },
  {
   "cell_type": "markdown",
   "metadata": {},
   "source": [
    "### Data preprocessing for logistic regression"
   ]
  },
  {
   "cell_type": "code",
   "execution_count": 30,
   "metadata": {},
   "outputs": [],
   "source": [
    "def fill_with_mean(df):\n",
    "    \"\"\"Function fills missing values with mean of the column\"\"\"\n",
    "    col_means = df.mean()\n",
    "    for index, row in df.iterrows():\n",
    "        for column in df.columns:\n",
    "            if column != 'field' and column != 'race_o' and column != 'met_o' and column != 'race' and column != 'goal' and column != 'date' and column != 'go_out' and column != 'career_c':\n",
    "                if np.isnan(row[column]):\n",
    "                    df.at[index, column] = col_means[column]\n",
    "            elif column == 'field' and np.isnan(row['field']):\n",
    "                df.at[index, column] = 8\n",
    "            elif column == 'race_o' and np.isnan(row['race_o']):\n",
    "                df.at[index, column] = 2\n",
    "            elif column == 'race' and np.isnan(row['race']):\n",
    "                df.at[index, column] = 2\n",
    "            elif column == 'goal' and np.isnan(row['goal']):\n",
    "                df.at[index, column] = 1\n",
    "            elif column == 'date' and np.isnan(row['date']):\n",
    "                df.at[index, column] = 6\n",
    "            elif column == 'go_out' and np.isnan(row['go_out']):\n",
    "                df.at[index, column] = 2\n",
    "            elif column == 'career_c' and np.isnan(row['career_c']):\n",
    "                df.at[index, column] = 2\n",
    "            elif column == 'met_o' and (np.isnan(row['met_o']) or row['met_o'] != 0):\n",
    "                df.at[index, column] = 1\n",
    "    return df"
   ]
  },
  {
   "cell_type": "markdown",
   "metadata": {},
   "source": [
    "### Option 1\n",
    "Modified income column - here the missing values are filled with the mean of the column and modified attr_5_1 columns - here the missing values are filled with the mean of the columns."
   ]
  },
  {
   "cell_type": "code",
   "execution_count": 31,
   "metadata": {},
   "outputs": [],
   "source": [
    "regression_df_1 = base_df.copy()\n",
    "regression_df_1 = fill_with_mean(regression_df_1)"
   ]
  },
  {
   "cell_type": "markdown",
   "metadata": {},
   "source": [
    "### Option 2\n",
    "Without income and attr_5_1 columns."
   ]
  },
  {
   "cell_type": "code",
   "execution_count": 32,
   "metadata": {},
   "outputs": [],
   "source": [
    "regression_df_2 = base_df.copy()\n",
    "cols_to_drop = ['income', 'attr5_1', 'sinc5_1', 'intel5_1', 'fun5_1', 'amb5_1']\n",
    "regression_df_2 = regression_df_2.drop(columns=cols_to_drop)\n",
    "regression_df_2 = fill_with_mean(regression_df_2)"
   ]
  },
  {
   "cell_type": "markdown",
   "metadata": {},
   "source": [
    "### Definition of logistic regression"
   ]
  },
  {
   "cell_type": "code",
   "execution_count": 33,
   "metadata": {},
   "outputs": [],
   "source": [
    "class LogisticRegression(torch.nn.Module):\n",
    "    def __init__(self, input_dim, output_dim):\n",
    "        super(LogisticRegression, self).__init__()\n",
    "        #(out)input_dim is size of our (out)input data\n",
    "        self.linear = torch.nn.Linear(input_dim, output_dim)\n",
    "\n",
    "    def forward(self, x):\n",
    "        pred_y = torch.sigmoid(self.linear(x))\n",
    "        return torch.squeeze(pred_y, 1)"
   ]
  },
  {
   "cell_type": "code",
   "execution_count": 34,
   "metadata": {},
   "outputs": [],
   "source": [
    "def train(model, x, y, epochs=100, learning_rate=0.01, weight_decay=1e-5, verbose=False):\n",
    "    optimizer = torch.optim.Adam(model.parameters(), lr=learning_rate, weight_decay=weight_decay)\n",
    "    model.train()\n",
    "    \n",
    "    for epoch in range(epochs):\n",
    "        # From numpy to PyTorch tensors.\n",
    "        # .to(dev) puts code on either gpu or cpu.\n",
    "        X = torch.FloatTensor(x).to(dev)\n",
    "        Y = torch.FloatTensor(y).to(dev)\n",
    "        \n",
    "        # calls forward method of the model\n",
    "        y_hat = model(X)\n",
    "        # Using mean squared errors loss function\n",
    "        loss = F.mse_loss(y_hat, Y)\n",
    "        optimizer.zero_grad()\n",
    "        loss.backward()\n",
    "        optimizer.step()\n",
    "        \n",
    "        if verbose and epoch % 10 == 0: \n",
    "            print(loss.item())\n",
    "            \n",
    "def test(model, x, y, verbose=False):\n",
    "    model.eval()\n",
    "    # .to(dev) puts code on either gpu or cpu.\n",
    "    X = torch.FloatTensor(x).to(dev)\n",
    "    Y = torch.FloatTensor(y).to(dev)\n",
    "    y_hat = model(X)\n",
    "    # Using mean squared errors loss function\n",
    "    loss = F.mse_loss(y_hat, Y)\n",
    "    if verbose:\n",
    "        print('test loss %.3f ' % loss.item())\n",
    "    return loss.item()"
   ]
  },
  {
   "cell_type": "markdown",
   "metadata": {},
   "source": [
    "### Let's find the best model using Cros validation:"
   ]
  },
  {
   "cell_type": "code",
   "execution_count": 35,
   "metadata": {},
   "outputs": [],
   "source": [
    "epochs_poss = list(range(100, 510, 10))\n",
    "weight_decay_poss = [0.0,  1e-8, 1e-7, 1e-6, 1e-5, 1e-4, 0.0001, 0.001, 0.01, 0.1, 1.0]\n",
    "learning_rate_poss = [1e-8, 1e-7, 1e-6, 1e-5, 1e-4, 0.0001, 0.001, 0.01, 0.1, 1.0] \n",
    "#testing every combination of epoch ~ weight_decay ~ learning_rate values\n",
    "def cross_valid_regression(model, train_x, train_y, test_x, test_y, verbose=False):\n",
    "    \"\"\"Function to choose the best hyperparameters for a model.\"\"\"\n",
    "    min_loss = np.inf\n",
    "    best_settings = None\n",
    "\n",
    "    for (epochs, wd, lr) in tqdm(product(epochs_poss, weight_decay_poss, learning_rate_poss)):\n",
    "        train(model, train_x, train_y, epochs=epochs, learning_rate=lr, weight_decay=wd)\n",
    "        test_loss = test(model, test_x, test_y)\n",
    "        if (test_loss < min_loss) or (test_loss == min_loss and best_settings is not None and epochs < best_settings['epochs']):\n",
    "            min_loss = test_loss\n",
    "            best_settings = {'epochs': epochs, 'weight_decay': wd, 'learning_rate_poss': lr}\n",
    "    if verbose:\n",
    "        print('min loss %.3f' % min_loss)\n",
    "        print('best settings are', best_settings)\n",
    "    return min_loss, best_settings\n"
   ]
  },
  {
   "cell_type": "code",
   "execution_count": 36,
   "metadata": {},
   "outputs": [
    {
     "name": "stderr",
     "output_type": "stream",
     "text": [
      "4510it [37:16,  2.02it/s]"
     ]
    },
    {
     "name": "stdout",
     "output_type": "stream",
     "text": [
      "(0.23222902417182922, {'epochs': 460, 'weight_decay': 0.1, 'learning_rate_poss': 0.0001})\n"
     ]
    },
    {
     "name": "stderr",
     "output_type": "stream",
     "text": [
      "\n"
     ]
    }
   ],
   "source": [
    "#train_sample defines size of train set\n",
    "train_sample = 0.8\n",
    "#our output is only one number\n",
    "output_dim = 1\n",
    "\n",
    "#simple division into training and testing sets\n",
    "msk = np.random.rand(len(regression_df_1)) < train_sample\n",
    "train_set = regression_df_1[msk]\n",
    "test_set = regression_df_1[~msk]\n",
    "\n",
    "#we want to predict 'dec' basing on other attributes. We dont want 'iid' and 'pid' columns\n",
    "#to have any impact on results\n",
    "train_x = train_set.drop(['dec', 'iid', 'pid'], axis=1).values\n",
    "train_y = train_set['dec'].values \n",
    "\n",
    "test_x = test_set.drop(['dec', 'iid', 'pid'], axis=1).values\n",
    "test_y = test_set['dec'].values \n",
    "\n",
    "input_dim = train_x.shape[1]\n",
    "model = LogisticRegression(input_dim, output_dim).to(dev)\n",
    "print(cross_valid_regression(model, train_x, train_y, test_x, test_y))"
   ]
  },
  {
   "cell_type": "markdown",
   "metadata": {},
   "source": [
    "***After trying various different combinations of parameters we have found the best one:***\n",
    "- epochs: 460\n",
    "- weight_decay: 0.1\n",
    "- learning_rate_poss: 0.0001\n",
    "\n",
    "This combination resulted with loss ~ 0.232\n"
   ]
  },
  {
   "cell_type": "code",
   "execution_count": null,
   "metadata": {},
   "outputs": [],
   "source": []
  },
  {
   "cell_type": "code",
   "execution_count": null,
   "metadata": {},
   "outputs": [],
   "source": []
  },
  {
   "cell_type": "code",
   "execution_count": null,
   "metadata": {},
   "outputs": [],
   "source": []
  },
  {
   "cell_type": "code",
   "execution_count": null,
   "metadata": {},
   "outputs": [],
   "source": []
  }
 ],
 "metadata": {
  "kernelspec": {
   "display_name": "Python 3",
   "language": "python",
   "name": "python3"
  },
  "language_info": {
   "codemirror_mode": {
    "name": "ipython",
    "version": 3
   },
   "file_extension": ".py",
   "mimetype": "text/x-python",
   "name": "python",
   "nbconvert_exporter": "python",
   "pygments_lexer": "ipython3",
   "version": "3.9.1"
  }
 },
 "nbformat": 4,
 "nbformat_minor": 4
}
