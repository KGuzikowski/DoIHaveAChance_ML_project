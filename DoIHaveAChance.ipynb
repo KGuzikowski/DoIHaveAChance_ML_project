{
 "cells": [
  {
   "cell_type": "code",
   "execution_count": 1,
   "metadata": {},
   "outputs": [],
   "source": [
    "# base imports\n",
    "import pandas as pd\n",
    "import numpy as np"
   ]
  },
  {
   "cell_type": "code",
   "execution_count": 16,
   "metadata": {},
   "outputs": [],
   "source": [
    "# Column met_o had values 1/2. It needs to be changed to 0/1.\n",
    "df = pd.read_csv('./data_for_matrix.csv')\n",
    "df['met_o'] = df['met_o'].apply(lambda x: x - 1)\n",
    "df.to_csv('data_for_matrix.csv', index=False)"
   ]
  },
  {
   "cell_type": "markdown",
   "metadata": {},
   "source": [
    "### Below you can see code that prepares data for the basic matrix factorization.\n",
    "Here in the base matrix we only have information about match. So we need a set of vectors, where each vector describes each date (holds both ids and information about match).\n",
    "\n",
    "Task will requite two base matrices.\n",
    "1. Matrix where men are \"users\" and women are \"products\". It will then be used to recommend women to men because matrix will say what's the predicted rating of a woman in eyes of man. Basically it will answer the question: **\"How likely is that a man will like a woman?\"**. Let's call this matrix/data frame **\"men_like_women\"**.\n",
    "1. Matrix where women are \"users\" and men are \"products\". It will then be used to recommend men to women because matrix will say what's the predicted rating of a man in eyes of woman. Basically it will answer the question: **\"How likely is that a woman will like a man?\"**. Let's call this matrix/data frame **\"women_like_men\"**.\n",
    "\n",
    "Why such analogies? It may help to understand how do this human relations task translates into recommender systems world.\n",
    "\n",
    "These matrices will be used to train models (with matrix factorization) which will then be saved into csv files."
   ]
  },
  {
   "cell_type": "code",
   "execution_count": 2,
   "metadata": {},
   "outputs": [
    {
     "name": "stdout",
     "output_type": "stream",
     "text": [
      "men_like_women_df:\n",
      "         id    pid  match\n",
      "0      11.0    1.0    0.0\n",
      "1      11.0    2.0    0.0\n",
      "2      11.0    3.0    0.0\n",
      "3      11.0    4.0    0.0\n",
      "4      11.0    5.0    0.0\n",
      "...     ...    ...    ...\n",
      "4179  552.0  526.0    0.0\n",
      "4180  552.0  527.0    0.0\n",
      "4181  552.0  528.0    0.0\n",
      "4182  552.0  529.0    0.0\n",
      "4183  552.0  530.0    0.0\n",
      "\n",
      "[4184 rows x 3 columns]\n",
      "\n",
      "women_like_men_df:\n",
      "         id    pid  match\n",
      "0       1.0   11.0    0.0\n",
      "1       1.0   12.0    0.0\n",
      "2       1.0   13.0    1.0\n",
      "3       1.0   14.0    1.0\n",
      "4       1.0   15.0    1.0\n",
      "...     ...    ...    ...\n",
      "4179  530.0  548.0    0.0\n",
      "4180  530.0  549.0    0.0\n",
      "4181  530.0  550.0    0.0\n",
      "4182  530.0  551.0    0.0\n",
      "4183  530.0  552.0    0.0\n",
      "\n",
      "[4184 rows x 3 columns]\n"
     ]
    }
   ],
   "source": [
    "# Split into vectors, let's have two matrices as describes above.\n",
    "base_df = pd.read_csv('./data_for_matrix.csv')\n",
    "men_like_women_data = []\n",
    "women_like_men_data = []\n",
    "\n",
    "for _, row in base_df.iterrows():\n",
    "    vector = {\n",
    "        'id': row['iid'],\n",
    "        'pid': row['pid'],\n",
    "        'match': row['match'],\n",
    "    }\n",
    "    if row['gender'] == 0:\n",
    "        women_like_men_data.append(vector)\n",
    "    else:\n",
    "        men_like_women_data.append(vector)\n",
    "\n",
    "men_like_women_df = pd.DataFrame(men_like_women_data)\n",
    "women_like_men_df = pd.DataFrame(women_like_men_data)\n",
    "\n",
    "print(\"men_like_women_df:\")\n",
    "print(men_like_women_df)\n",
    "print(\"\\nwomen_like_men_df:\")\n",
    "print(women_like_men_df)"
   ]
  },
  {
   "cell_type": "markdown",
   "metadata": {},
   "source": [
    "## Let's prepare train and test data sets\n",
    "\n",
    "### Make ids contiguous\n",
    "We need to change the data. As you can see ids are not contiguous and they must be. So let's change that."
   ]
  },
  {
   "cell_type": "code",
   "execution_count": 3,
   "metadata": {},
   "outputs": [],
   "source": [
    "def proc_col(column):\n",
    "    \"\"\"Encodes a pandas column with continous ids.\"\"\"\n",
    "    unique = column.unique()\n",
    "    old_to_new = {o: i for i, o in enumerate(unique)}\n",
    "    return np.array([old_to_new.get(x, -1) for x in column])\n",
    "\n",
    "\n",
    "def encode_data(df):\n",
    "    \"\"\"Encodes data with continous person and partner ids.\"\"\"\n",
    "    df = df.copy()\n",
    "    for col_name in [\"id\", \"pid\"]:\n",
    "        col = proc_col(df[col_name])\n",
    "        df[col_name] = col\n",
    "        df = df[df[col_name] >= 0]\n",
    "    return df"
   ]
  },
  {
   "cell_type": "markdown",
   "metadata": {},
   "source": [
    "And now use these functions to make ids contiguous."
   ]
  },
  {
   "cell_type": "code",
   "execution_count": 4,
   "metadata": {},
   "outputs": [
    {
     "name": "stdout",
     "output_type": "stream",
     "text": [
      "Before:\n",
      "         id    pid  match\n",
      "0      11.0    1.0    0.0\n",
      "1      11.0    2.0    0.0\n",
      "2      11.0    3.0    0.0\n",
      "3      11.0    4.0    0.0\n",
      "4      11.0    5.0    0.0\n",
      "...     ...    ...    ...\n",
      "4179  552.0  526.0    0.0\n",
      "4180  552.0  527.0    0.0\n",
      "4181  552.0  528.0    0.0\n",
      "4182  552.0  529.0    0.0\n",
      "4183  552.0  530.0    0.0\n",
      "\n",
      "[4184 rows x 3 columns]\n",
      "\n",
      "After:\n",
      "       id  pid  match\n",
      "0       0    0    0.0\n",
      "1       0    1    0.0\n",
      "2       0    2    0.0\n",
      "3       0    3    0.0\n",
      "4       0    4    0.0\n",
      "...   ...  ...    ...\n",
      "4179  276  269    0.0\n",
      "4180  276  270    0.0\n",
      "4181  276  271    0.0\n",
      "4182  276  272    0.0\n",
      "4183  276  273    0.0\n",
      "\n",
      "[4184 rows x 3 columns]\n"
     ]
    }
   ],
   "source": [
    "print('Before:')\n",
    "print(men_like_women_df)\n",
    "men_like_women_df = encode_data(men_like_women_df)\n",
    "print('\\nAfter:')\n",
    "print(men_like_women_df)\n",
    "\n",
    "women_like_men_df = encode_data(women_like_men_df)"
   ]
  },
  {
   "cell_type": "markdown",
   "metadata": {},
   "source": [
    "### Let's split into train and test data sets\n",
    "Standard sklearn function `train_test_split` doesn't do a job here because both test and train data sets should include all people. So after using `train_test_split` we need to transition some people between sets to ensure that both sets are correct. The same goes for partners."
   ]
  },
  {
   "cell_type": "code",
   "execution_count": 5,
   "metadata": {},
   "outputs": [],
   "source": [
    "from sklearn.model_selection import train_test_split as tts\n",
    "\n",
    "def train_test_split(df, test_size=0.2):\n",
    "    # Use standard train_test_split.\n",
    "    df_train, df_test = tts(df, test_size=test_size)\n",
    "    no_train_unique = len(df_train.id.unique())\n",
    "    no_test_unique = len(df_test.id.unique())\n",
    "    \n",
    "    # See what people are missing in the test set.\n",
    "    diff = np.setdiff1d(df_train.id.unique(), df_test.id.unique())\n",
    "    for id in diff:\n",
    "        # For every missing person we need to exchange them for a\n",
    "        # different one so that sets still have the same number of elements.\n",
    "        person_to_send_to_test = df_train.loc[df_train.id == id].iloc[0]\n",
    "        person_to_send_to_train = None\n",
    "        # Choose some person from the test set to send to the train set.\n",
    "        ids = df_test.id.unique()\n",
    "        np.random.shuffle(ids)\n",
    "        for test_id in ids:\n",
    "            person = df_test.loc[df_test.id == test_id]\n",
    "            if len(person.index) > 1:\n",
    "                person_to_send_to_train = person.iloc[0]\n",
    "                break\n",
    "        if person_to_send_to_train is not None:\n",
    "            # Remove people that transit from old sets.\n",
    "            # .name holds the id of that row in the oryginal df.\n",
    "            df_train = df_train.drop(person_to_send_to_test.name)\n",
    "            df_test = df_test.drop(person_to_send_to_train.name)\n",
    "            # Add new people to sets.\n",
    "            df_train = pd.concat([df_train, person_to_send_to_train.to_frame().T], ignore_index=True)\n",
    "            df_test = pd.concat([df_test, person_to_send_to_test.to_frame().T], ignore_index=True)\n",
    "        else:\n",
    "            raise Exception(\"Couldn't find any person from people to send from the test to the train.\")\n",
    "        \n",
    "    # See what partners are missing in the test set.\n",
    "    diff = np.setdiff1d(df_train.pid.unique(), df_test.pid.unique())\n",
    "    for pid in diff:\n",
    "        # For every missing partner we need to exchange them for a\n",
    "        # different one so that sets still have the same number of elements.\n",
    "        partner_to_send_to_test = df_train.loc[df_train.pid == pid].iloc[0]\n",
    "        partner_to_send_to_train = None\n",
    "        \n",
    "        # Choose some partner from the test set to send to the train set.\n",
    "        # Need to make sure that both sets will still have all the people.\n",
    "        pids = df_test.pid.unique()\n",
    "        np.random.shuffle(pids)\n",
    "        for test_pid in pids:\n",
    "            partner = df_test.loc[df_test.pid == test_pid]\n",
    "            if len(partner.index) > 1:\n",
    "                # Make sure we don't remove a person completely.\n",
    "                id = partner.iloc[0].id\n",
    "                person_qty = len(df_test.loc[df_test.id == id].index)\n",
    "                if person_qty > 1:\n",
    "                    partner_to_send_to_train = partner.iloc[0]\n",
    "                    break\n",
    "        if partner_to_send_to_train is not None:\n",
    "            # Remove partners that transit from old sets.\n",
    "            df_train = df_train.drop(partner_to_send_to_test.name)\n",
    "            df_test = df_test.drop(partner_to_send_to_train.name)\n",
    "            # Add new people to sets.\n",
    "            df_train = pd.concat([df_train, partner_to_send_to_train.to_frame().T], ignore_index=True)\n",
    "            df_test = pd.concat([df_test, partner_to_send_to_test.to_frame().T], ignore_index=True)\n",
    "        else:\n",
    "            raise Exception(\"Couldn't find any partner from partners to send from the test to the train.\")\n",
    "                    \n",
    "    df_train = df_train.sort_values(by='id')\n",
    "    df_test = df_test.sort_values(by='id')\n",
    "    return df_train.reset_index(drop=True), df_test.sort_values(by='id').reset_index(drop=True)"
   ]
  },
  {
   "cell_type": "markdown",
   "metadata": {},
   "source": [
    "### And now just get correct data"
   ]
  },
  {
   "cell_type": "code",
   "execution_count": 6,
   "metadata": {},
   "outputs": [],
   "source": [
    "men_like_women_train_df, men_like_women_test_df = train_test_split(men_like_women_df, test_size=0.2)\n",
    "men_like_women_no_men = len(men_like_women_train_df.id.unique())\n",
    "men_like_women_no_women = len(men_like_women_train_df.pid.unique())\n",
    "\n",
    "women_like_men_train_df, women_like_men_test_df = train_test_split(women_like_men_df, test_size=0.2)\n",
    "women_like_men_no_women = len(women_like_men_train_df.id.unique())\n",
    "women_like_men_no_men = len(women_like_men_train_df.pid.unique())"
   ]
  },
  {
   "cell_type": "markdown",
   "metadata": {},
   "source": [
    "## Let's create matrix factorization models\n",
    "\n",
    "We will create and train 4 base MF (matrix factorization) models:\n",
    "1. without bias and uniform (0, 0.2) weight initialization,\n",
    "2. without bias and xavier initialization,\n",
    "3. with bias and uniform (0, 0.2) weight initialization,\n",
    "4. with bias and xavier initialization,\n",
    "\n",
    "For each model will do a cross validation to learn the best hyperparameters and then we will compare the results and choose the best model.\n",
    "\n",
    "Some general explanations for models:\n",
    "* Models are train on only one batch because our data set is rather small.\n",
    "\n",
    "Good reading resource: https://towardsdatascience.com/weight-initialization-techniques-in-neural-networks-26c649eb3b78"
   ]
  },
  {
   "cell_type": "code",
   "execution_count": 7,
   "metadata": {},
   "outputs": [],
   "source": [
    "import torch\n",
    "import torch.nn as nn\n",
    "import torch.nn.functional as F\n",
    "\n",
    "dev = torch.device('cuda') if torch.cuda.is_available() else torch.device('cpu')\n",
    "# dev = torch.device('cpu')"
   ]
  },
  {
   "cell_type": "markdown",
   "metadata": {},
   "source": [
    "### Matrix factorization without bias"
   ]
  },
  {
   "cell_type": "code",
   "execution_count": 8,
   "metadata": {},
   "outputs": [
    {
     "name": "stdout",
     "output_type": "stream",
     "text": [
      "Model with without xavier weights are:\n",
      "\n",
      "Parameter containing:\n",
      "tensor([[0.0347, 0.9427, 0.8637],\n",
      "        [0.1220, 0.9027, 0.9057],\n",
      "        [0.5746, 0.8113, 0.1471],\n",
      "        [0.4093, 0.8417, 0.8649],\n",
      "        [0.6624, 0.6414, 0.5028],\n",
      "        [0.1087, 0.2491, 0.7737],\n",
      "        [0.7774, 0.8104, 0.0418],\n",
      "        [0.3627, 0.0483, 0.2036],\n",
      "        [0.8158, 0.5273, 0.1581],\n",
      "        [0.9472, 0.7296, 0.8585]], requires_grad=True)\n",
      "Parameter containing:\n",
      "tensor([[0.7354, 0.4518, 0.2801],\n",
      "        [0.3589, 0.0408, 0.2196],\n",
      "        [0.0236, 0.0878, 0.1914],\n",
      "        [0.8644, 0.4435, 0.4815],\n",
      "        [0.8899, 0.3745, 0.8583],\n",
      "        [0.9558, 0.7463, 0.3746],\n",
      "        [0.6093, 0.5117, 0.9474],\n",
      "        [0.3324, 0.4326, 0.0308],\n",
      "        [0.8697, 0.6937, 0.8170],\n",
      "        [0.2127, 0.0068, 0.4480]], requires_grad=True)\n",
      "\n",
      "\n",
      " ====================\n",
      "\n",
      "\n",
      "Model with with xavier weights are:\n",
      "\n",
      "Parameter containing:\n",
      "tensor([[ 0.0719, -0.1428, -0.2553],\n",
      "        [ 0.3376,  0.0381,  0.4572],\n",
      "        [-0.4015,  0.5085,  0.4255],\n",
      "        [-0.6500,  0.3515,  0.0668],\n",
      "        [-0.5329,  0.6700,  0.6432],\n",
      "        [-0.0097, -0.4929, -0.2583],\n",
      "        [ 0.5801, -0.5392,  0.1213],\n",
      "        [-0.2249,  0.1938,  0.0943],\n",
      "        [-0.4792,  0.0258,  0.3521],\n",
      "        [ 0.6544,  0.2360,  0.2521]], requires_grad=True)\n",
      "Parameter containing:\n",
      "tensor([[ 0.2244,  0.5207, -0.0301],\n",
      "        [-0.6257, -0.1218, -0.3413],\n",
      "        [-0.4652, -0.5888, -0.5288],\n",
      "        [ 0.2429, -0.1234,  0.4727],\n",
      "        [-0.3290, -0.0468,  0.2306],\n",
      "        [-0.6608, -0.0937, -0.6116],\n",
      "        [ 0.5228,  0.4606,  0.4082],\n",
      "        [ 0.4700,  0.1756, -0.2973],\n",
      "        [ 0.5096, -0.6768, -0.5187],\n",
      "        [-0.4596,  0.4688, -0.2437]], requires_grad=True)\n"
     ]
    }
   ],
   "source": [
    "class MatrixFactorizationWithoutBiasNoXavier(nn.Module):\n",
    "    def __init__(self, num_people, num_partners, emb_size=100):\n",
    "        super(MatrixFactorizationWithoutBiasNoXavier, self).__init__()\n",
    "        self.person_emb = nn.Embedding(num_people, emb_size)\n",
    "        self.partner_emb = nn.Embedding(num_partners, emb_size)\n",
    "        self.person_emb.weight.data.uniform_(0, 1)\n",
    "        self.partner_emb.weight.data.uniform_(0, 1)\n",
    "        \n",
    "    def forward(self, u, v):\n",
    "        u = self.person_emb(u)\n",
    "        v = self.partner_emb(v)\n",
    "        # calculate dot product\n",
    "        # u*v is a element wise vector multiplication\n",
    "        return torch.sigmoid((u*v).sum(1))\n",
    "\n",
    "    \n",
    "class MatrixFactorizationWithoutBiasXavier(nn.Module):\n",
    "    def __init__(self, num_people, num_partners, emb_size=100):\n",
    "        super(MatrixFactorizationWithoutBiasXavier, self).__init__()\n",
    "        self.person_emb = nn.Embedding(num_people, emb_size)\n",
    "        self.partner_emb = nn.Embedding(num_partners, emb_size)\n",
    "        torch.nn.init.xavier_uniform_(self.person_emb.weight)\n",
    "        torch.nn.init.xavier_uniform_(self.partner_emb.weight)\n",
    "        \n",
    "    def forward(self, u, v):\n",
    "        u = self.person_emb(u)\n",
    "        v = self.partner_emb(v)\n",
    "        # calculate dot product\n",
    "        # u*v is a element wise vector multiplication\n",
    "        return torch.sigmoid((u*v).sum(1))\n",
    "\n",
    "    \n",
    "# Example small models demonstrating weights\n",
    "example_model_no_xavier = MatrixFactorizationWithoutBiasNoXavier(10, 10, 3)\n",
    "example_model_xavier = MatrixFactorizationWithoutBiasXavier(10, 10, 3)\n",
    "print(\"Model with without xavier weights are:\\n\")\n",
    "for p in example_model_no_xavier.parameters():\n",
    "    print(p)\n",
    "print('\\n\\n', '='*20)\n",
    "print(\"\\n\\nModel with with xavier weights are:\\n\")\n",
    "for p in example_model_xavier.parameters():\n",
    "    print(p)"
   ]
  },
  {
   "cell_type": "markdown",
   "metadata": {},
   "source": [
    "### Matrix factorization without bias"
   ]
  },
  {
   "cell_type": "code",
   "execution_count": 9,
   "metadata": {},
   "outputs": [
    {
     "name": "stdout",
     "output_type": "stream",
     "text": [
      "Model with without xavier weights are:\n",
      "\n",
      "Parameter containing:\n",
      "tensor([[0.1019, 0.1436, 0.1889],\n",
      "        [0.0587, 0.1733, 0.1805],\n",
      "        [0.0191, 0.1636, 0.0887],\n",
      "        [0.1603, 0.1432, 0.0601],\n",
      "        [0.1475, 0.0582, 0.1918],\n",
      "        [0.0985, 0.1870, 0.0687],\n",
      "        [0.1863, 0.1444, 0.1027],\n",
      "        [0.0747, 0.1806, 0.1997],\n",
      "        [0.1039, 0.0208, 0.0406],\n",
      "        [0.1721, 0.0881, 0.0522]], requires_grad=True)\n",
      "Parameter containing:\n",
      "tensor([[ 0.0079],\n",
      "        [ 0.0053],\n",
      "        [-0.0096],\n",
      "        [-0.0066],\n",
      "        [ 0.0084],\n",
      "        [ 0.0036],\n",
      "        [-0.0004],\n",
      "        [ 0.0048],\n",
      "        [ 0.0008],\n",
      "        [ 0.0052]], requires_grad=True)\n",
      "Parameter containing:\n",
      "tensor([[0.0907, 0.1331, 0.1729],\n",
      "        [0.1613, 0.1532, 0.0619],\n",
      "        [0.1170, 0.0912, 0.1173],\n",
      "        [0.0076, 0.0862, 0.1338],\n",
      "        [0.0743, 0.0074, 0.0709],\n",
      "        [0.1474, 0.0223, 0.1666],\n",
      "        [0.1596, 0.0888, 0.0321],\n",
      "        [0.0255, 0.0905, 0.1050],\n",
      "        [0.0683, 0.0145, 0.0468],\n",
      "        [0.0181, 0.1568, 0.0637]], requires_grad=True)\n",
      "Parameter containing:\n",
      "tensor([[-0.0011],\n",
      "        [ 0.0041],\n",
      "        [ 0.0056],\n",
      "        [-0.0045],\n",
      "        [ 0.0081],\n",
      "        [ 0.0051],\n",
      "        [ 0.0013],\n",
      "        [-0.0037],\n",
      "        [-0.0099],\n",
      "        [-0.0066]], requires_grad=True)\n",
      "\n",
      "\n",
      " ====================\n",
      "\n",
      "\n",
      "Model with with xavier weights are:\n",
      "\n",
      "Parameter containing:\n",
      "tensor([[0.1954, 0.0486, 0.1086],\n",
      "        [0.0454, 0.0482, 0.1347],\n",
      "        [0.0671, 0.1714, 0.1471],\n",
      "        [0.0028, 0.1042, 0.0655],\n",
      "        [0.1509, 0.0497, 0.0110],\n",
      "        [0.0699, 0.1650, 0.1644],\n",
      "        [0.0253, 0.0303, 0.1266],\n",
      "        [0.0139, 0.1719, 0.0299],\n",
      "        [0.0402, 0.0755, 0.1379],\n",
      "        [0.0099, 0.0216, 0.0426]], requires_grad=True)\n",
      "Parameter containing:\n",
      "tensor([[-0.0023],\n",
      "        [-0.0096],\n",
      "        [-0.0089],\n",
      "        [ 0.0079],\n",
      "        [-0.0049],\n",
      "        [-0.0027],\n",
      "        [ 0.0036],\n",
      "        [ 0.0073],\n",
      "        [ 0.0048],\n",
      "        [ 0.0008]], requires_grad=True)\n",
      "Parameter containing:\n",
      "tensor([[0.0532, 0.0804, 0.1318],\n",
      "        [0.1908, 0.1470, 0.0510],\n",
      "        [0.1406, 0.0124, 0.0809],\n",
      "        [0.1846, 0.1019, 0.0678],\n",
      "        [0.0368, 0.1101, 0.0527],\n",
      "        [0.1256, 0.1642, 0.1576],\n",
      "        [0.0071, 0.0365, 0.1546],\n",
      "        [0.1487, 0.0943, 0.1883],\n",
      "        [0.0163, 0.0635, 0.1431],\n",
      "        [0.0176, 0.1528, 0.0096]], requires_grad=True)\n",
      "Parameter containing:\n",
      "tensor([[ 0.0018],\n",
      "        [ 0.0026],\n",
      "        [-0.0057],\n",
      "        [-0.0036],\n",
      "        [ 0.0100],\n",
      "        [-0.0046],\n",
      "        [ 0.0056],\n",
      "        [-0.0064],\n",
      "        [-0.0051],\n",
      "        [-0.0078]], requires_grad=True)\n"
     ]
    }
   ],
   "source": [
    "class MatrixFactorizationWithBiasNoXavier(nn.Module):\n",
    "    def __init__(self, num_people, num_partners, emb_size=100):\n",
    "        super(MatrixFactorizationWithBiasNoXavier, self).__init__()\n",
    "        self.person_emb = nn.Embedding(num_people, emb_size)\n",
    "        self.person_bias = nn.Embedding(num_people, 1)\n",
    "        self.partner_emb = nn.Embedding(num_partners, emb_size)\n",
    "        self.parnter_bias = nn.Embedding(num_partners, 1)\n",
    "        torch.nn.init.xavier_uniform_(self.person_emb.weight)\n",
    "        torch.nn.init.xavier_uniform_(self.partner_emb.weight)\n",
    "        self.person_bias.weight.data.uniform_(-0.01,0.01)\n",
    "        self.parnter_bias.weight.data.uniform_(-0.01,0.01)\n",
    "            \n",
    "    def forward(self, u, v):\n",
    "        u = self.person_emb(u)\n",
    "        v = self.partner_emb(v)\n",
    "        # calculate dot product\n",
    "        # u*v is a element wise vector multiplication\n",
    "        return torch.sigmoid((u*v).sum(1))\n",
    "    \n",
    "    \n",
    "class MatrixFactorizationWithBiasNoXavier(nn.Module):\n",
    "    def __init__(self, num_people, num_partners, emb_size=100):\n",
    "        super(MatrixFactorizationWithBiasNoXavier, self).__init__()\n",
    "        self.person_emb = nn.Embedding(num_people, emb_size)\n",
    "        self.person_bias = nn.Embedding(num_people, 1)\n",
    "        self.partner_emb = nn.Embedding(num_partners, emb_size)\n",
    "        self.parnter_bias = nn.Embedding(num_partners, 1)\n",
    "        self.person_emb.weight.data.uniform_(0,0.2)\n",
    "        self.partner_emb.weight.data.uniform_(0,0.2)\n",
    "        self.person_bias.weight.data.uniform_(-0.01,0.01)\n",
    "        self.parnter_bias.weight.data.uniform_(-0.01,0.01)\n",
    "            \n",
    "    def forward(self, u, v):\n",
    "        u = self.person_emb(u)\n",
    "        v = self.partner_emb(v)\n",
    "        # calculate dot product\n",
    "        # u*v is a element wise vector multiplication\n",
    "        return torch.sigmoid((u*v).sum(1))\n",
    "    \n",
    "\n",
    "# Example small models demonstrating weights\n",
    "example_model_no_xavier = MatrixFactorizationWithBiasNoXavier(10, 10, 3)\n",
    "example_model_xavier = MatrixFactorizationWithBiasNoXavier(10, 10, 3)\n",
    "print(\"Model with without xavier weights are:\\n\")\n",
    "for p in example_model_no_xavier.parameters():\n",
    "    print(p)\n",
    "print('\\n\\n', '='*20)\n",
    "print(\"\\n\\nModel with with xavier weights are:\\n\")\n",
    "for p in example_model_xavier.parameters():\n",
    "    print(p)"
   ]
  },
  {
   "cell_type": "markdown",
   "metadata": {},
   "source": [
    "### Training and testing functions are below"
   ]
  },
  {
   "cell_type": "code",
   "execution_count": 43,
   "metadata": {},
   "outputs": [],
   "source": [
    "def test(model, df_test, verbose=False):\n",
    "    model.eval()\n",
    "    # .to(dev) puts code on either gpu or cpu.\n",
    "    people = torch.LongTensor(df_test.id.values).to(dev)\n",
    "    partners = torch.LongTensor(df_test.pid.values).to(dev)\n",
    "    attraction = torch.FloatTensor(df_test.match.values).to(dev)\n",
    "    y_hat = model(people, partners)\n",
    "    loss = F.mse_loss(y_hat, attraction)\n",
    "    if verbose:\n",
    "        print('test loss %.3f ' % loss.item())\n",
    "    return loss.item()\n",
    "\n",
    "\n",
    "# Default values assigned below are ones that I found online.\n",
    "# Cross validadtion will be done later but it's good to have some defaults.\n",
    "def train(model, df_train, epochs=100, learning_rate=0.01, weight_decay=1e-5, verbose=False):\n",
    "    optimizer = torch.optim.Adam(model.parameters(), lr=learning_rate, weight_decay=weight_decay)\n",
    "    model.train()\n",
    "    \n",
    "    for epoch in range(epochs):\n",
    "        # From numpy to PyTorch tensors.\n",
    "        # .to(dev) puts code on either gpu or cpu.\n",
    "        people = torch.LongTensor(df_train.id.values).to(dev)\n",
    "        partners = torch.LongTensor(df_train.pid.values).to(dev)\n",
    "        attraction = torch.FloatTensor(df_train.match.values).to(dev)\n",
    "        \n",
    "        # calls forward method of the model\n",
    "        y_hat = model(people, partners)\n",
    "        # Using mean squared errors loss function\n",
    "        loss = F.mse_loss(y_hat, attraction)\n",
    "        optimizer.zero_grad()\n",
    "        loss.backward()\n",
    "        optimizer.step()\n",
    "        \n",
    "        if verbose and epoch % 100 == 0: \n",
    "            print(loss.item())"
   ]
  },
  {
   "cell_type": "markdown",
   "metadata": {},
   "source": [
    "# Let's finally train models and choose the best one\n",
    "\n",
    "## Let's first train men_like_women"
   ]
  },
  {
   "cell_type": "markdown",
   "metadata": {},
   "source": [
    "## Cross validation on each model"
   ]
  },
  {
   "cell_type": "code",
   "execution_count": 48,
   "metadata": {},
   "outputs": [],
   "source": [
    "from itertools import product\n",
    "from tqdm import tqdm\n",
    "\n",
    "epochs_poss = list(range(10, 310, 10))\n",
    "weight_decay_poss = [0.0, 1e-7, 1e-6, 1e-5, 1e-4, 0.0001, 0.001, 0.01, 0.1, 1.0, 10]\n",
    "learning_rate_poss = [1e-7, 1e-6, 1e-5, 1e-4, 0.0001, 0.001, 0.01, 0.1, 1.0, 10]\n",
    "\n",
    "def cross_vaild(model, verbose=False):\n",
    "    min_loss = float('inf')\n",
    "    best_settings = None\n",
    "\n",
    "    for (epochs, wd, lr) in tqdm(product(epochs_poss, weight_decay_poss, learning_rate_poss)):\n",
    "        model_no_bias_no_xavier = model(men_like_women_no_men, men_like_women_no_women).to(dev)\n",
    "        train(model_no_bias_no_xavier, men_like_women_train_df, epochs=epochs, learning_rate=lr, weight_decay=wd)\n",
    "        test_loss = test(model_no_bias_no_xavier, men_like_women_test_df)\n",
    "        if (test_loss < min_loss) or (test_loss == min_loss and best_settings is not None and epochs < best_settings[0]):\n",
    "            min_loss = test_loss\n",
    "            best_settings = (epochs, wd, lr)\n",
    "    if verbose:\n",
    "        print('min loss %.3f' % min_loss)\n",
    "        print('best settings are', best_settings)\n",
    "    return min_loss, best_settings"
   ]
  },
  {
   "cell_type": "markdown",
   "metadata": {},
   "source": [
    "### MatrixFactorizationWithoutBiasNoXavier"
   ]
  },
  {
   "cell_type": "code",
   "execution_count": 49,
   "metadata": {},
   "outputs": [
    {
     "name": "stderr",
     "output_type": "stream",
     "text": [
      "2700it [11:26,  3.93it/s]"
     ]
    },
    {
     "name": "stdout",
     "output_type": "stream",
     "text": [
      "min loss 0.150\n",
      "best settings are (210, 1e-05, 0.01)\n"
     ]
    },
    {
     "name": "stderr",
     "output_type": "stream",
     "text": [
      "\n"
     ]
    }
   ],
   "source": [
    "def cross_valid_no_bias_no_xavier(verbose=False):\n",
    "    return cross_vaild(MatrixFactorizationWithoutBiasNoXavier)"
   ]
  },
  {
   "cell_type": "markdown",
   "metadata": {},
   "source": [
    "### MatrixFactorizationWithoutBiasXavier"
   ]
  },
  {
   "cell_type": "code",
   "execution_count": 50,
   "metadata": {},
   "outputs": [
    {
     "name": "stderr",
     "output_type": "stream",
     "text": [
      "2700it [11:36,  3.87it/s]"
     ]
    },
    {
     "name": "stdout",
     "output_type": "stream",
     "text": [
      "min loss 0.142\n",
      "best settings are (20, 0.0001, 0.01)\n"
     ]
    },
    {
     "name": "stderr",
     "output_type": "stream",
     "text": [
      "\n"
     ]
    }
   ],
   "source": [
    "def cross_valid_no_bias_xavier(verbose=False):\n",
    "    return cross_vaild(MatrixFactorizationWithoutBiasXavier)"
   ]
  },
  {
   "cell_type": "markdown",
   "metadata": {},
   "source": [
    "### MatrixFactorizationWithBiasNoXavier"
   ]
  },
  {
   "cell_type": "code",
   "execution_count": null,
   "metadata": {},
   "outputs": [],
   "source": [
    "def cross_valid_bias_no_xavier(verbose=False):\n",
    "    return cross_vaild(MatrixFactorizationWithBiasNoXavier)"
   ]
  },
  {
   "cell_type": "markdown",
   "metadata": {},
   "source": [
    "### MatrixFactorizationWithBiasXavier"
   ]
  },
  {
   "cell_type": "code",
   "execution_count": null,
   "metadata": {},
   "outputs": [],
   "source": [
    "def cross_valid_bias_xavier(verbose=False):\n",
    "    return cross_vaild(MatrixFactorizationWithBiasXavier)"
   ]
  }
 ],
 "metadata": {
  "kernelspec": {
   "display_name": "Python 3",
   "language": "python",
   "name": "python3"
  },
  "language_info": {
   "codemirror_mode": {
    "name": "ipython",
    "version": 3
   },
   "file_extension": ".py",
   "mimetype": "text/x-python",
   "name": "python",
   "nbconvert_exporter": "python",
   "pygments_lexer": "ipython3",
   "version": "3.8.5"
  }
 },
 "nbformat": 4,
 "nbformat_minor": 4
}
